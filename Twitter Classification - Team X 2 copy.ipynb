{
 "cells": [
  {
   "cell_type": "markdown",
   "id": "5e8144bd",
   "metadata": {},
   "source": [
    "# Twitter Classification - Hackathon\n",
    "\n",
    "### Team Members:\n",
    "- Akhil Venugopal (avgopal@iu.edu)\n",
    "- Bhawna Mishra (bhmish@iu.edu)\n",
    "- Sumitha Vellinalur Thattai (svtranga@iu.edu)"
   ]
  },
  {
   "cell_type": "markdown",
   "id": "078973e9",
   "metadata": {},
   "source": [
    "## ReadMe"
   ]
  },
  {
   "cell_type": "markdown",
   "id": "440aceea",
   "metadata": {},
   "source": [
    "**Packages Used** - Numpy, Seaborn, Pandas, Matplotlib, Spacy, sklearn, Counter, en_core_web_sm\n",
    "\n",
    "**Models Used** - Logistic Regression, Random Forest Classifier, Bernoulli NB, Guassian NB, LDA, KNN, SVC, Decision Tree\n",
    "\n",
    "\n",
    "**How to run the file** - Install spacy and en_core_web_sm and run the below cells\n",
    "\n",
    "**Command to install packages** -\n",
    "- Spacy - !pip install spacy\n",
    "- en_core_web_sm - !pip install en_core_web_sm"
   ]
  },
  {
   "cell_type": "markdown",
   "id": "582614af",
   "metadata": {},
   "source": [
    "### Link to Video Presentation - https://youtu.be/aOAManzDLXs"
   ]
  },
  {
   "cell_type": "markdown",
   "id": "c3404546",
   "metadata": {},
   "source": [
    "### EDA of the data"
   ]
  },
  {
   "cell_type": "code",
   "execution_count": 1,
   "id": "6d496219",
   "metadata": {},
   "outputs": [],
   "source": [
    "import pandas as pd\n",
    "import matplotlib.pyplot as plt\n",
    "\n",
    "#Reading the training data\n",
    "df = pd.read_csv('train_dataset.csv')"
   ]
  },
  {
   "cell_type": "code",
   "execution_count": 2,
   "id": "1bb63bad",
   "metadata": {},
   "outputs": [
    {
     "data": {
      "text/html": [
       "<div>\n",
       "<style scoped>\n",
       "    .dataframe tbody tr th:only-of-type {\n",
       "        vertical-align: middle;\n",
       "    }\n",
       "\n",
       "    .dataframe tbody tr th {\n",
       "        vertical-align: top;\n",
       "    }\n",
       "\n",
       "    .dataframe thead th {\n",
       "        text-align: right;\n",
       "    }\n",
       "</style>\n",
       "<table border=\"1\" class=\"dataframe\">\n",
       "  <thead>\n",
       "    <tr style=\"text-align: right;\">\n",
       "      <th></th>\n",
       "      <th>Unnamed: 0</th>\n",
       "      <th>Unnamed: 0.1</th>\n",
       "      <th>key</th>\n",
       "      <th>ID</th>\n",
       "      <th>create_date</th>\n",
       "      <th>user</th>\n",
       "      <th>userID</th>\n",
       "      <th>RT_TF</th>\n",
       "      <th>full_text</th>\n",
       "      <th>Sample.ID.x</th>\n",
       "      <th>...</th>\n",
       "      <th>Calling.Out.x</th>\n",
       "      <th>Calling.Out.y</th>\n",
       "      <th>Is.About.the.Holocaust.x</th>\n",
       "      <th>Is.About.the.Holocaust.y</th>\n",
       "      <th>IHRA.Section.x</th>\n",
       "      <th>IHRA.Section.y</th>\n",
       "      <th>sample_name</th>\n",
       "      <th>Is.About.The.Holocaust.x</th>\n",
       "      <th>Is.About.The.Holocaust.y</th>\n",
       "      <th>Target</th>\n",
       "    </tr>\n",
       "  </thead>\n",
       "  <tbody>\n",
       "    <tr>\n",
       "      <th>0</th>\n",
       "      <td>2454</td>\n",
       "      <td>2454</td>\n",
       "      <td>JewNAS</td>\n",
       "      <td>1.232290e+18</td>\n",
       "      <td>Tue Feb 25 07:54:26 -0500 2020</td>\n",
       "      <td>Leafy13222544</td>\n",
       "      <td>1.209270e+18</td>\n",
       "      <td>True</td>\n",
       "      <td>@ShaKeeL__007 @marksul44 @P3ng1z @BernieSander...</td>\n",
       "      <td>366</td>\n",
       "      <td>...</td>\n",
       "      <td>1</td>\n",
       "      <td>0</td>\n",
       "      <td>0.0</td>\n",
       "      <td>0.0</td>\n",
       "      <td>13</td>\n",
       "      <td>13</td>\n",
       "      <td>Jews2020Jan-Apr.rep2</td>\n",
       "      <td>NaN</td>\n",
       "      <td>NaN</td>\n",
       "      <td>0</td>\n",
       "    </tr>\n",
       "    <tr>\n",
       "      <th>1</th>\n",
       "      <td>870</td>\n",
       "      <td>870</td>\n",
       "      <td>JewAS</td>\n",
       "      <td>1.272910e+18</td>\n",
       "      <td>Tue Jun 16 11:13:24 -0400 2020</td>\n",
       "      <td>sharonka3</td>\n",
       "      <td>9.752547e+08</td>\n",
       "      <td>True</td>\n",
       "      <td>This is a perfect example of how Jews across N...</td>\n",
       "      <td>68</td>\n",
       "      <td>...</td>\n",
       "      <td>0</td>\n",
       "      <td>0</td>\n",
       "      <td>NaN</td>\n",
       "      <td>NaN</td>\n",
       "      <td>2</td>\n",
       "      <td>2</td>\n",
       "      <td>Jews2020May-Aug.rep1.rep1</td>\n",
       "      <td>0.0</td>\n",
       "      <td>0.0</td>\n",
       "      <td>1</td>\n",
       "    </tr>\n",
       "    <tr>\n",
       "      <th>2</th>\n",
       "      <td>763</td>\n",
       "      <td>763</td>\n",
       "      <td>JewAS</td>\n",
       "      <td>1.233040e+18</td>\n",
       "      <td>Thu Feb 27 09:53:39 -0500 2020</td>\n",
       "      <td>SpruceYelverton</td>\n",
       "      <td>1.114823e+09</td>\n",
       "      <td>True</td>\n",
       "      <td>Jews were the major cotton traders &amp;amp; had n...</td>\n",
       "      <td>49</td>\n",
       "      <td>...</td>\n",
       "      <td>0</td>\n",
       "      <td>0</td>\n",
       "      <td>0.0</td>\n",
       "      <td>0.0</td>\n",
       "      <td>2</td>\n",
       "      <td>2</td>\n",
       "      <td>Jews2020Jan-Apr.rep1</td>\n",
       "      <td>NaN</td>\n",
       "      <td>NaN</td>\n",
       "      <td>1</td>\n",
       "    </tr>\n",
       "    <tr>\n",
       "      <th>3</th>\n",
       "      <td>3744</td>\n",
       "      <td>3744</td>\n",
       "      <td>KikesAS</td>\n",
       "      <td>1.202940e+18</td>\n",
       "      <td>Fri Dec 06 08:25:54 -0500 2019</td>\n",
       "      <td>plive_calmer</td>\n",
       "      <td>8.404970e+17</td>\n",
       "      <td>False</td>\n",
       "      <td>🙊 I bet #randum The media's slanted view of ki...</td>\n",
       "      <td>45</td>\n",
       "      <td>...</td>\n",
       "      <td>1</td>\n",
       "      <td>1</td>\n",
       "      <td>0.0</td>\n",
       "      <td>0.0</td>\n",
       "      <td>0</td>\n",
       "      <td>0</td>\n",
       "      <td>kikes2019.rep1</td>\n",
       "      <td>NaN</td>\n",
       "      <td>NaN</td>\n",
       "      <td>1</td>\n",
       "    </tr>\n",
       "    <tr>\n",
       "      <th>4</th>\n",
       "      <td>1525</td>\n",
       "      <td>1525</td>\n",
       "      <td>JewNAS</td>\n",
       "      <td>1.168870e+18</td>\n",
       "      <td>Tue Sep 03 08:53:53 -0400 2019</td>\n",
       "      <td>emzeekg</td>\n",
       "      <td>2.975341e+09</td>\n",
       "      <td>True</td>\n",
       "      <td>21 year old Palestinian woman murdered by her ...</td>\n",
       "      <td>186</td>\n",
       "      <td>...</td>\n",
       "      <td>0</td>\n",
       "      <td>1</td>\n",
       "      <td>0.0</td>\n",
       "      <td>0.0</td>\n",
       "      <td>13</td>\n",
       "      <td>13</td>\n",
       "      <td>Jews2019.rep2</td>\n",
       "      <td>NaN</td>\n",
       "      <td>NaN</td>\n",
       "      <td>0</td>\n",
       "    </tr>\n",
       "  </tbody>\n",
       "</table>\n",
       "<p>5 rows × 35 columns</p>\n",
       "</div>"
      ],
      "text/plain": [
       "   Unnamed: 0  Unnamed: 0.1      key            ID  \\\n",
       "0        2454          2454   JewNAS  1.232290e+18   \n",
       "1         870           870    JewAS  1.272910e+18   \n",
       "2         763           763    JewAS  1.233040e+18   \n",
       "3        3744          3744  KikesAS  1.202940e+18   \n",
       "4        1525          1525   JewNAS  1.168870e+18   \n",
       "\n",
       "                      create_date             user        userID  RT_TF  \\\n",
       "0  Tue Feb 25 07:54:26 -0500 2020    Leafy13222544  1.209270e+18   True   \n",
       "1  Tue Jun 16 11:13:24 -0400 2020        sharonka3  9.752547e+08   True   \n",
       "2  Thu Feb 27 09:53:39 -0500 2020  SpruceYelverton  1.114823e+09   True   \n",
       "3  Fri Dec 06 08:25:54 -0500 2019     plive_calmer  8.404970e+17  False   \n",
       "4  Tue Sep 03 08:53:53 -0400 2019          emzeekg  2.975341e+09   True   \n",
       "\n",
       "                                           full_text  Sample.ID.x  ...  \\\n",
       "0  @ShaKeeL__007 @marksul44 @P3ng1z @BernieSander...          366  ...   \n",
       "1  This is a perfect example of how Jews across N...           68  ...   \n",
       "2  Jews were the major cotton traders &amp; had n...           49  ...   \n",
       "3  🙊 I bet #randum The media's slanted view of ki...           45  ...   \n",
       "4  21 year old Palestinian woman murdered by her ...          186  ...   \n",
       "\n",
       "   Calling.Out.x  Calling.Out.y  Is.About.the.Holocaust.x  \\\n",
       "0              1              0                       0.0   \n",
       "1              0              0                       NaN   \n",
       "2              0              0                       0.0   \n",
       "3              1              1                       0.0   \n",
       "4              0              1                       0.0   \n",
       "\n",
       "   Is.About.the.Holocaust.y  IHRA.Section.x  IHRA.Section.y  \\\n",
       "0                       0.0              13              13   \n",
       "1                       NaN               2               2   \n",
       "2                       0.0               2               2   \n",
       "3                       0.0               0               0   \n",
       "4                       0.0              13              13   \n",
       "\n",
       "                 sample_name Is.About.The.Holocaust.x  \\\n",
       "0       Jews2020Jan-Apr.rep2                      NaN   \n",
       "1  Jews2020May-Aug.rep1.rep1                      0.0   \n",
       "2       Jews2020Jan-Apr.rep1                      NaN   \n",
       "3             kikes2019.rep1                      NaN   \n",
       "4              Jews2019.rep2                      NaN   \n",
       "\n",
       "  Is.About.The.Holocaust.y Target  \n",
       "0                      NaN      0  \n",
       "1                      0.0      1  \n",
       "2                      NaN      1  \n",
       "3                      NaN      1  \n",
       "4                      NaN      0  \n",
       "\n",
       "[5 rows x 35 columns]"
      ]
     },
     "execution_count": 2,
     "metadata": {},
     "output_type": "execute_result"
    }
   ],
   "source": [
    "df.head()"
   ]
  },
  {
   "cell_type": "code",
   "execution_count": 3,
   "id": "7f3ce6ee",
   "metadata": {},
   "outputs": [
    {
     "data": {
      "text/plain": [
       "JewNAS        1763\n",
       "IsraelNAS      505\n",
       "ZioNaziAS      365\n",
       "JewAS          222\n",
       "KikesNAS       150\n",
       "KikesAS         79\n",
       "IsraelAS        77\n",
       "ZioNaziNAS      55\n",
       "Name: key, dtype: int64"
      ]
     },
     "execution_count": 3,
     "metadata": {},
     "output_type": "execute_result"
    }
   ],
   "source": [
    "df.key.value_counts()"
   ]
  },
  {
   "cell_type": "code",
   "execution_count": 4,
   "id": "b2e18aee",
   "metadata": {},
   "outputs": [
    {
     "data": {
      "text/html": [
       "<div>\n",
       "<style scoped>\n",
       "    .dataframe tbody tr th:only-of-type {\n",
       "        vertical-align: middle;\n",
       "    }\n",
       "\n",
       "    .dataframe tbody tr th {\n",
       "        vertical-align: top;\n",
       "    }\n",
       "\n",
       "    .dataframe thead th {\n",
       "        text-align: right;\n",
       "    }\n",
       "</style>\n",
       "<table border=\"1\" class=\"dataframe\">\n",
       "  <thead>\n",
       "    <tr style=\"text-align: right;\">\n",
       "      <th></th>\n",
       "      <th>Unnamed: 0</th>\n",
       "      <th>Unnamed: 0.1</th>\n",
       "      <th>ID</th>\n",
       "      <th>userID</th>\n",
       "      <th>Sample.ID.x</th>\n",
       "      <th>Sample.ID.y</th>\n",
       "      <th>Sentiment.Rating.x</th>\n",
       "      <th>Sentiment.Rating.y</th>\n",
       "      <th>Calling.Out.x</th>\n",
       "      <th>Calling.Out.y</th>\n",
       "      <th>Is.About.the.Holocaust.x</th>\n",
       "      <th>Is.About.the.Holocaust.y</th>\n",
       "      <th>IHRA.Section.x</th>\n",
       "      <th>IHRA.Section.y</th>\n",
       "      <th>Is.About.The.Holocaust.x</th>\n",
       "      <th>Is.About.The.Holocaust.y</th>\n",
       "      <th>Target</th>\n",
       "    </tr>\n",
       "  </thead>\n",
       "  <tbody>\n",
       "    <tr>\n",
       "      <th>count</th>\n",
       "      <td>3216.000000</td>\n",
       "      <td>3216.000000</td>\n",
       "      <td>3.216000e+03</td>\n",
       "      <td>3.216000e+03</td>\n",
       "      <td>3216.000000</td>\n",
       "      <td>3216.000000</td>\n",
       "      <td>3216.000000</td>\n",
       "      <td>3216.000000</td>\n",
       "      <td>3216.000000</td>\n",
       "      <td>3216.000000</td>\n",
       "      <td>2264.000000</td>\n",
       "      <td>2264.000000</td>\n",
       "      <td>3216.000000</td>\n",
       "      <td>3216.000000</td>\n",
       "      <td>952.000000</td>\n",
       "      <td>952.000000</td>\n",
       "      <td>3216.000000</td>\n",
       "    </tr>\n",
       "    <tr>\n",
       "      <th>mean</th>\n",
       "      <td>1999.877799</td>\n",
       "      <td>1999.877799</td>\n",
       "      <td>1.215330e+18</td>\n",
       "      <td>4.117402e+17</td>\n",
       "      <td>242.249378</td>\n",
       "      <td>242.249378</td>\n",
       "      <td>2.768035</td>\n",
       "      <td>2.707090</td>\n",
       "      <td>0.281405</td>\n",
       "      <td>0.204913</td>\n",
       "      <td>0.105565</td>\n",
       "      <td>0.072880</td>\n",
       "      <td>11.282649</td>\n",
       "      <td>11.077114</td>\n",
       "      <td>0.107143</td>\n",
       "      <td>0.093487</td>\n",
       "      <td>0.231032</td>\n",
       "    </tr>\n",
       "    <tr>\n",
       "      <th>std</th>\n",
       "      <td>1168.858979</td>\n",
       "      <td>1168.858979</td>\n",
       "      <td>6.075276e+16</td>\n",
       "      <td>5.062683e+17</td>\n",
       "      <td>144.527845</td>\n",
       "      <td>144.527845</td>\n",
       "      <td>0.637587</td>\n",
       "      <td>0.742841</td>\n",
       "      <td>0.449755</td>\n",
       "      <td>0.403701</td>\n",
       "      <td>0.307348</td>\n",
       "      <td>0.259997</td>\n",
       "      <td>3.527015</td>\n",
       "      <td>3.973351</td>\n",
       "      <td>0.309457</td>\n",
       "      <td>0.291267</td>\n",
       "      <td>0.421559</td>\n",
       "    </tr>\n",
       "    <tr>\n",
       "      <th>min</th>\n",
       "      <td>0.000000</td>\n",
       "      <td>0.000000</td>\n",
       "      <td>1.079900e+18</td>\n",
       "      <td>1.994321e+06</td>\n",
       "      <td>1.000000</td>\n",
       "      <td>1.000000</td>\n",
       "      <td>1.000000</td>\n",
       "      <td>1.000000</td>\n",
       "      <td>0.000000</td>\n",
       "      <td>0.000000</td>\n",
       "      <td>0.000000</td>\n",
       "      <td>0.000000</td>\n",
       "      <td>0.000000</td>\n",
       "      <td>0.000000</td>\n",
       "      <td>0.000000</td>\n",
       "      <td>0.000000</td>\n",
       "      <td>0.000000</td>\n",
       "    </tr>\n",
       "    <tr>\n",
       "      <th>25%</th>\n",
       "      <td>982.500000</td>\n",
       "      <td>982.500000</td>\n",
       "      <td>1.167218e+18</td>\n",
       "      <td>2.608568e+08</td>\n",
       "      <td>118.000000</td>\n",
       "      <td>118.000000</td>\n",
       "      <td>3.000000</td>\n",
       "      <td>3.000000</td>\n",
       "      <td>0.000000</td>\n",
       "      <td>0.000000</td>\n",
       "      <td>0.000000</td>\n",
       "      <td>0.000000</td>\n",
       "      <td>10.000000</td>\n",
       "      <td>13.000000</td>\n",
       "      <td>0.000000</td>\n",
       "      <td>0.000000</td>\n",
       "      <td>0.000000</td>\n",
       "    </tr>\n",
       "    <tr>\n",
       "      <th>50%</th>\n",
       "      <td>1990.000000</td>\n",
       "      <td>1990.000000</td>\n",
       "      <td>1.225400e+18</td>\n",
       "      <td>2.742042e+09</td>\n",
       "      <td>237.000000</td>\n",
       "      <td>237.000000</td>\n",
       "      <td>3.000000</td>\n",
       "      <td>3.000000</td>\n",
       "      <td>0.000000</td>\n",
       "      <td>0.000000</td>\n",
       "      <td>0.000000</td>\n",
       "      <td>0.000000</td>\n",
       "      <td>13.000000</td>\n",
       "      <td>13.000000</td>\n",
       "      <td>0.000000</td>\n",
       "      <td>0.000000</td>\n",
       "      <td>0.000000</td>\n",
       "    </tr>\n",
       "    <tr>\n",
       "      <th>75%</th>\n",
       "      <td>3023.500000</td>\n",
       "      <td>3023.500000</td>\n",
       "      <td>1.266368e+18</td>\n",
       "      <td>9.545080e+17</td>\n",
       "      <td>366.250000</td>\n",
       "      <td>366.250000</td>\n",
       "      <td>3.000000</td>\n",
       "      <td>3.000000</td>\n",
       "      <td>1.000000</td>\n",
       "      <td>0.000000</td>\n",
       "      <td>0.000000</td>\n",
       "      <td>0.000000</td>\n",
       "      <td>13.000000</td>\n",
       "      <td>13.000000</td>\n",
       "      <td>0.000000</td>\n",
       "      <td>0.000000</td>\n",
       "      <td>0.000000</td>\n",
       "    </tr>\n",
       "    <tr>\n",
       "      <th>max</th>\n",
       "      <td>4018.000000</td>\n",
       "      <td>4018.000000</td>\n",
       "      <td>1.300530e+18</td>\n",
       "      <td>1.294950e+18</td>\n",
       "      <td>500.000000</td>\n",
       "      <td>500.000000</td>\n",
       "      <td>5.000000</td>\n",
       "      <td>5.000000</td>\n",
       "      <td>1.000000</td>\n",
       "      <td>1.000000</td>\n",
       "      <td>1.000000</td>\n",
       "      <td>1.000000</td>\n",
       "      <td>13.000000</td>\n",
       "      <td>13.000000</td>\n",
       "      <td>1.000000</td>\n",
       "      <td>1.000000</td>\n",
       "      <td>1.000000</td>\n",
       "    </tr>\n",
       "  </tbody>\n",
       "</table>\n",
       "</div>"
      ],
      "text/plain": [
       "        Unnamed: 0  Unnamed: 0.1            ID        userID  Sample.ID.x  \\\n",
       "count  3216.000000   3216.000000  3.216000e+03  3.216000e+03  3216.000000   \n",
       "mean   1999.877799   1999.877799  1.215330e+18  4.117402e+17   242.249378   \n",
       "std    1168.858979   1168.858979  6.075276e+16  5.062683e+17   144.527845   \n",
       "min       0.000000      0.000000  1.079900e+18  1.994321e+06     1.000000   \n",
       "25%     982.500000    982.500000  1.167218e+18  2.608568e+08   118.000000   \n",
       "50%    1990.000000   1990.000000  1.225400e+18  2.742042e+09   237.000000   \n",
       "75%    3023.500000   3023.500000  1.266368e+18  9.545080e+17   366.250000   \n",
       "max    4018.000000   4018.000000  1.300530e+18  1.294950e+18   500.000000   \n",
       "\n",
       "       Sample.ID.y  Sentiment.Rating.x  Sentiment.Rating.y  Calling.Out.x  \\\n",
       "count  3216.000000         3216.000000         3216.000000    3216.000000   \n",
       "mean    242.249378            2.768035            2.707090       0.281405   \n",
       "std     144.527845            0.637587            0.742841       0.449755   \n",
       "min       1.000000            1.000000            1.000000       0.000000   \n",
       "25%     118.000000            3.000000            3.000000       0.000000   \n",
       "50%     237.000000            3.000000            3.000000       0.000000   \n",
       "75%     366.250000            3.000000            3.000000       1.000000   \n",
       "max     500.000000            5.000000            5.000000       1.000000   \n",
       "\n",
       "       Calling.Out.y  Is.About.the.Holocaust.x  Is.About.the.Holocaust.y  \\\n",
       "count    3216.000000               2264.000000               2264.000000   \n",
       "mean        0.204913                  0.105565                  0.072880   \n",
       "std         0.403701                  0.307348                  0.259997   \n",
       "min         0.000000                  0.000000                  0.000000   \n",
       "25%         0.000000                  0.000000                  0.000000   \n",
       "50%         0.000000                  0.000000                  0.000000   \n",
       "75%         0.000000                  0.000000                  0.000000   \n",
       "max         1.000000                  1.000000                  1.000000   \n",
       "\n",
       "       IHRA.Section.x  IHRA.Section.y  Is.About.The.Holocaust.x  \\\n",
       "count     3216.000000     3216.000000                952.000000   \n",
       "mean        11.282649       11.077114                  0.107143   \n",
       "std          3.527015        3.973351                  0.309457   \n",
       "min          0.000000        0.000000                  0.000000   \n",
       "25%         10.000000       13.000000                  0.000000   \n",
       "50%         13.000000       13.000000                  0.000000   \n",
       "75%         13.000000       13.000000                  0.000000   \n",
       "max         13.000000       13.000000                  1.000000   \n",
       "\n",
       "       Is.About.The.Holocaust.y       Target  \n",
       "count                952.000000  3216.000000  \n",
       "mean                   0.093487     0.231032  \n",
       "std                    0.291267     0.421559  \n",
       "min                    0.000000     0.000000  \n",
       "25%                    0.000000     0.000000  \n",
       "50%                    0.000000     0.000000  \n",
       "75%                    0.000000     0.000000  \n",
       "max                    1.000000     1.000000  "
      ]
     },
     "execution_count": 4,
     "metadata": {},
     "output_type": "execute_result"
    }
   ],
   "source": [
    "df.describe()"
   ]
  },
  {
   "cell_type": "markdown",
   "id": "7d685fa6",
   "metadata": {},
   "source": [
    "#### Drop null values:"
   ]
  },
  {
   "cell_type": "code",
   "execution_count": 5,
   "id": "99e2973e",
   "metadata": {},
   "outputs": [
    {
     "data": {
      "text/plain": [
       "Unnamed: 0                     0\n",
       "Unnamed: 0.1                   0\n",
       "key                            0\n",
       "ID                             0\n",
       "create_date                    0\n",
       "user                           0\n",
       "userID                         0\n",
       "RT_TF                          0\n",
       "full_text                      0\n",
       "Sample.ID.x                    0\n",
       "Sample.ID.y                    0\n",
       "Still.Exists.x                 0\n",
       "Still.Exists.y                 0\n",
       "In.English.x                   0\n",
       "In.English.y                   0\n",
       "Sarcasm.x                      0\n",
       "Sarcasm.y                      0\n",
       "Additional.Comments.x          0\n",
       "Additional.Comments.y          0\n",
       "User.x                         0\n",
       "User.y                         0\n",
       "Disagree.With.x                0\n",
       "Disagree.With.y                0\n",
       "Sentiment.Rating.x             0\n",
       "Sentiment.Rating.y             0\n",
       "Calling.Out.x                  0\n",
       "Calling.Out.y                  0\n",
       "Is.About.the.Holocaust.x     952\n",
       "Is.About.the.Holocaust.y     952\n",
       "IHRA.Section.x                 0\n",
       "IHRA.Section.y                 0\n",
       "sample_name                    0\n",
       "Is.About.The.Holocaust.x    2264\n",
       "Is.About.The.Holocaust.y    2264\n",
       "Target                         0\n",
       "dtype: int64"
      ]
     },
     "execution_count": 5,
     "metadata": {},
     "output_type": "execute_result"
    }
   ],
   "source": [
    "df.isnull().sum()"
   ]
  },
  {
   "cell_type": "code",
   "execution_count": 6,
   "id": "21363913",
   "metadata": {},
   "outputs": [],
   "source": [
    "df.drop(['Is.About.the.Holocaust.x', 'Is.About.the.Holocaust.y', 'Is.About.The.Holocaust.x', 'Is.About.The.Holocaust.y'],axis = 1, inplace=True)"
   ]
  },
  {
   "cell_type": "code",
   "execution_count": 7,
   "id": "eb761bba",
   "metadata": {},
   "outputs": [],
   "source": [
    "df.drop(['User.x', 'User.y','Sample.ID.x', 'Sample.ID.y','ID', 'Unnamed: 0.1' ],axis = 1, inplace=True)"
   ]
  },
  {
   "cell_type": "code",
   "execution_count": 8,
   "id": "5e443c11",
   "metadata": {},
   "outputs": [
    {
     "data": {
      "text/html": [
       "<div>\n",
       "<style scoped>\n",
       "    .dataframe tbody tr th:only-of-type {\n",
       "        vertical-align: middle;\n",
       "    }\n",
       "\n",
       "    .dataframe tbody tr th {\n",
       "        vertical-align: top;\n",
       "    }\n",
       "\n",
       "    .dataframe thead th {\n",
       "        text-align: right;\n",
       "    }\n",
       "</style>\n",
       "<table border=\"1\" class=\"dataframe\">\n",
       "  <thead>\n",
       "    <tr style=\"text-align: right;\">\n",
       "      <th></th>\n",
       "      <th>key</th>\n",
       "      <th>create_date</th>\n",
       "      <th>user</th>\n",
       "      <th>userID</th>\n",
       "      <th>RT_TF</th>\n",
       "      <th>full_text</th>\n",
       "      <th>Still.Exists.x</th>\n",
       "      <th>Still.Exists.y</th>\n",
       "      <th>In.English.x</th>\n",
       "      <th>In.English.y</th>\n",
       "      <th>...</th>\n",
       "      <th>Disagree.With.x</th>\n",
       "      <th>Disagree.With.y</th>\n",
       "      <th>Sentiment.Rating.x</th>\n",
       "      <th>Sentiment.Rating.y</th>\n",
       "      <th>Calling.Out.x</th>\n",
       "      <th>Calling.Out.y</th>\n",
       "      <th>IHRA.Section.x</th>\n",
       "      <th>IHRA.Section.y</th>\n",
       "      <th>sample_name</th>\n",
       "      <th>Target</th>\n",
       "    </tr>\n",
       "    <tr>\n",
       "      <th>Unnamed: 0</th>\n",
       "      <th></th>\n",
       "      <th></th>\n",
       "      <th></th>\n",
       "      <th></th>\n",
       "      <th></th>\n",
       "      <th></th>\n",
       "      <th></th>\n",
       "      <th></th>\n",
       "      <th></th>\n",
       "      <th></th>\n",
       "      <th></th>\n",
       "      <th></th>\n",
       "      <th></th>\n",
       "      <th></th>\n",
       "      <th></th>\n",
       "      <th></th>\n",
       "      <th></th>\n",
       "      <th></th>\n",
       "      <th></th>\n",
       "      <th></th>\n",
       "      <th></th>\n",
       "    </tr>\n",
       "  </thead>\n",
       "  <tbody>\n",
       "    <tr>\n",
       "      <th>2454</th>\n",
       "      <td>JewNAS</td>\n",
       "      <td>Tue Feb 25 07:54:26 -0500 2020</td>\n",
       "      <td>Leafy13222544</td>\n",
       "      <td>1.209270e+18</td>\n",
       "      <td>True</td>\n",
       "      <td>@ShaKeeL__007 @marksul44 @P3ng1z @BernieSander...</td>\n",
       "      <td>True</td>\n",
       "      <td>True</td>\n",
       "      <td>True</td>\n",
       "      <td>True</td>\n",
       "      <td>...</td>\n",
       "      <td>False</td>\n",
       "      <td>False</td>\n",
       "      <td>3</td>\n",
       "      <td>3</td>\n",
       "      <td>1</td>\n",
       "      <td>0</td>\n",
       "      <td>13</td>\n",
       "      <td>13</td>\n",
       "      <td>Jews2020Jan-Apr.rep2</td>\n",
       "      <td>0</td>\n",
       "    </tr>\n",
       "    <tr>\n",
       "      <th>870</th>\n",
       "      <td>JewAS</td>\n",
       "      <td>Tue Jun 16 11:13:24 -0400 2020</td>\n",
       "      <td>sharonka3</td>\n",
       "      <td>9.752547e+08</td>\n",
       "      <td>True</td>\n",
       "      <td>This is a perfect example of how Jews across N...</td>\n",
       "      <td>True</td>\n",
       "      <td>True</td>\n",
       "      <td>True</td>\n",
       "      <td>True</td>\n",
       "      <td>...</td>\n",
       "      <td>False</td>\n",
       "      <td>False</td>\n",
       "      <td>2</td>\n",
       "      <td>2</td>\n",
       "      <td>0</td>\n",
       "      <td>0</td>\n",
       "      <td>2</td>\n",
       "      <td>2</td>\n",
       "      <td>Jews2020May-Aug.rep1.rep1</td>\n",
       "      <td>1</td>\n",
       "    </tr>\n",
       "    <tr>\n",
       "      <th>763</th>\n",
       "      <td>JewAS</td>\n",
       "      <td>Thu Feb 27 09:53:39 -0500 2020</td>\n",
       "      <td>SpruceYelverton</td>\n",
       "      <td>1.114823e+09</td>\n",
       "      <td>True</td>\n",
       "      <td>Jews were the major cotton traders &amp;amp; had n...</td>\n",
       "      <td>True</td>\n",
       "      <td>True</td>\n",
       "      <td>True</td>\n",
       "      <td>True</td>\n",
       "      <td>...</td>\n",
       "      <td>False</td>\n",
       "      <td>False</td>\n",
       "      <td>2</td>\n",
       "      <td>2</td>\n",
       "      <td>0</td>\n",
       "      <td>0</td>\n",
       "      <td>2</td>\n",
       "      <td>2</td>\n",
       "      <td>Jews2020Jan-Apr.rep1</td>\n",
       "      <td>1</td>\n",
       "    </tr>\n",
       "    <tr>\n",
       "      <th>3744</th>\n",
       "      <td>KikesAS</td>\n",
       "      <td>Fri Dec 06 08:25:54 -0500 2019</td>\n",
       "      <td>plive_calmer</td>\n",
       "      <td>8.404970e+17</td>\n",
       "      <td>False</td>\n",
       "      <td>🙊 I bet #randum The media's slanted view of ki...</td>\n",
       "      <td>True</td>\n",
       "      <td>True</td>\n",
       "      <td>True</td>\n",
       "      <td>True</td>\n",
       "      <td>...</td>\n",
       "      <td>False</td>\n",
       "      <td>False</td>\n",
       "      <td>2</td>\n",
       "      <td>2</td>\n",
       "      <td>1</td>\n",
       "      <td>1</td>\n",
       "      <td>0</td>\n",
       "      <td>0</td>\n",
       "      <td>kikes2019.rep1</td>\n",
       "      <td>1</td>\n",
       "    </tr>\n",
       "    <tr>\n",
       "      <th>1525</th>\n",
       "      <td>JewNAS</td>\n",
       "      <td>Tue Sep 03 08:53:53 -0400 2019</td>\n",
       "      <td>emzeekg</td>\n",
       "      <td>2.975341e+09</td>\n",
       "      <td>True</td>\n",
       "      <td>21 year old Palestinian woman murdered by her ...</td>\n",
       "      <td>True</td>\n",
       "      <td>True</td>\n",
       "      <td>True</td>\n",
       "      <td>True</td>\n",
       "      <td>...</td>\n",
       "      <td>False</td>\n",
       "      <td>False</td>\n",
       "      <td>3</td>\n",
       "      <td>3</td>\n",
       "      <td>0</td>\n",
       "      <td>1</td>\n",
       "      <td>13</td>\n",
       "      <td>13</td>\n",
       "      <td>Jews2019.rep2</td>\n",
       "      <td>0</td>\n",
       "    </tr>\n",
       "    <tr>\n",
       "      <th>...</th>\n",
       "      <td>...</td>\n",
       "      <td>...</td>\n",
       "      <td>...</td>\n",
       "      <td>...</td>\n",
       "      <td>...</td>\n",
       "      <td>...</td>\n",
       "      <td>...</td>\n",
       "      <td>...</td>\n",
       "      <td>...</td>\n",
       "      <td>...</td>\n",
       "      <td>...</td>\n",
       "      <td>...</td>\n",
       "      <td>...</td>\n",
       "      <td>...</td>\n",
       "      <td>...</td>\n",
       "      <td>...</td>\n",
       "      <td>...</td>\n",
       "      <td>...</td>\n",
       "      <td>...</td>\n",
       "      <td>...</td>\n",
       "      <td>...</td>\n",
       "    </tr>\n",
       "    <tr>\n",
       "      <th>1594</th>\n",
       "      <td>JewNAS</td>\n",
       "      <td>Thu Sep 19 20:46:33 -0400 2019</td>\n",
       "      <td>allen_rl</td>\n",
       "      <td>3.490296e+08</td>\n",
       "      <td>False</td>\n",
       "      <td>I Agree!!! Too much Islam!!!!Stop defamation o...</td>\n",
       "      <td>True</td>\n",
       "      <td>True</td>\n",
       "      <td>True</td>\n",
       "      <td>True</td>\n",
       "      <td>...</td>\n",
       "      <td>False</td>\n",
       "      <td>False</td>\n",
       "      <td>3</td>\n",
       "      <td>3</td>\n",
       "      <td>0</td>\n",
       "      <td>0</td>\n",
       "      <td>13</td>\n",
       "      <td>13</td>\n",
       "      <td>Jews2019.rep2</td>\n",
       "      <td>0</td>\n",
       "    </tr>\n",
       "    <tr>\n",
       "      <th>3547</th>\n",
       "      <td>ZioNaziAS</td>\n",
       "      <td>Thu Jan 02 22:42:30 -0500 2020</td>\n",
       "      <td>SCynyrd</td>\n",
       "      <td>4.879780e+09</td>\n",
       "      <td>False</td>\n",
       "      <td>Another zionazi pogrom</td>\n",
       "      <td>True</td>\n",
       "      <td>True</td>\n",
       "      <td>True</td>\n",
       "      <td>True</td>\n",
       "      <td>...</td>\n",
       "      <td>False</td>\n",
       "      <td>False</td>\n",
       "      <td>3</td>\n",
       "      <td>1</td>\n",
       "      <td>0</td>\n",
       "      <td>0</td>\n",
       "      <td>10</td>\n",
       "      <td>10</td>\n",
       "      <td>ZioNazi2020Jan-Apr.rep2</td>\n",
       "      <td>1</td>\n",
       "    </tr>\n",
       "    <tr>\n",
       "      <th>1125</th>\n",
       "      <td>JewNAS</td>\n",
       "      <td>Fri May 31 10:56:41 -0400 2019</td>\n",
       "      <td>grendyll</td>\n",
       "      <td>1.894299e+07</td>\n",
       "      <td>True</td>\n",
       "      <td>Paul Nehlen is a white supremacist who wants t...</td>\n",
       "      <td>True</td>\n",
       "      <td>True</td>\n",
       "      <td>True</td>\n",
       "      <td>True</td>\n",
       "      <td>...</td>\n",
       "      <td>False</td>\n",
       "      <td>False</td>\n",
       "      <td>3</td>\n",
       "      <td>3</td>\n",
       "      <td>1</td>\n",
       "      <td>0</td>\n",
       "      <td>13</td>\n",
       "      <td>13</td>\n",
       "      <td>Jews2019.rep1</td>\n",
       "      <td>0</td>\n",
       "    </tr>\n",
       "    <tr>\n",
       "      <th>1413</th>\n",
       "      <td>JewNAS</td>\n",
       "      <td>Fri Mar 22 15:10:14 -0400 2019</td>\n",
       "      <td>LizEady1</td>\n",
       "      <td>2.857314e+09</td>\n",
       "      <td>True</td>\n",
       "      <td>The Democrats who skip AIPAC are not friends t...</td>\n",
       "      <td>True</td>\n",
       "      <td>True</td>\n",
       "      <td>True</td>\n",
       "      <td>True</td>\n",
       "      <td>...</td>\n",
       "      <td>False</td>\n",
       "      <td>False</td>\n",
       "      <td>3</td>\n",
       "      <td>3</td>\n",
       "      <td>1</td>\n",
       "      <td>0</td>\n",
       "      <td>13</td>\n",
       "      <td>13</td>\n",
       "      <td>Jews2019.rep2</td>\n",
       "      <td>0</td>\n",
       "    </tr>\n",
       "    <tr>\n",
       "      <th>2716</th>\n",
       "      <td>JewNAS</td>\n",
       "      <td>Sun Aug 09 10:06:46 -0400 2020</td>\n",
       "      <td>Scoodinfroody</td>\n",
       "      <td>8.705120e+17</td>\n",
       "      <td>True</td>\n",
       "      <td>British people love to talk about saving Jews ...</td>\n",
       "      <td>True</td>\n",
       "      <td>True</td>\n",
       "      <td>True</td>\n",
       "      <td>True</td>\n",
       "      <td>...</td>\n",
       "      <td>False</td>\n",
       "      <td>False</td>\n",
       "      <td>3</td>\n",
       "      <td>4</td>\n",
       "      <td>0</td>\n",
       "      <td>0</td>\n",
       "      <td>13</td>\n",
       "      <td>13</td>\n",
       "      <td>Jews2020May-Aug.rep1.rep1</td>\n",
       "      <td>0</td>\n",
       "    </tr>\n",
       "  </tbody>\n",
       "</table>\n",
       "<p>3216 rows × 24 columns</p>\n",
       "</div>"
      ],
      "text/plain": [
       "                  key                     create_date             user  \\\n",
       "Unnamed: 0                                                               \n",
       "2454           JewNAS  Tue Feb 25 07:54:26 -0500 2020    Leafy13222544   \n",
       "870             JewAS  Tue Jun 16 11:13:24 -0400 2020        sharonka3   \n",
       "763             JewAS  Thu Feb 27 09:53:39 -0500 2020  SpruceYelverton   \n",
       "3744          KikesAS  Fri Dec 06 08:25:54 -0500 2019     plive_calmer   \n",
       "1525           JewNAS  Tue Sep 03 08:53:53 -0400 2019          emzeekg   \n",
       "...               ...                             ...              ...   \n",
       "1594           JewNAS  Thu Sep 19 20:46:33 -0400 2019         allen_rl   \n",
       "3547        ZioNaziAS  Thu Jan 02 22:42:30 -0500 2020          SCynyrd   \n",
       "1125           JewNAS  Fri May 31 10:56:41 -0400 2019         grendyll   \n",
       "1413           JewNAS  Fri Mar 22 15:10:14 -0400 2019         LizEady1   \n",
       "2716           JewNAS  Sun Aug 09 10:06:46 -0400 2020    Scoodinfroody   \n",
       "\n",
       "                  userID  RT_TF  \\\n",
       "Unnamed: 0                        \n",
       "2454        1.209270e+18   True   \n",
       "870         9.752547e+08   True   \n",
       "763         1.114823e+09   True   \n",
       "3744        8.404970e+17  False   \n",
       "1525        2.975341e+09   True   \n",
       "...                  ...    ...   \n",
       "1594        3.490296e+08  False   \n",
       "3547        4.879780e+09  False   \n",
       "1125        1.894299e+07   True   \n",
       "1413        2.857314e+09   True   \n",
       "2716        8.705120e+17   True   \n",
       "\n",
       "                                                    full_text  Still.Exists.x  \\\n",
       "Unnamed: 0                                                                      \n",
       "2454        @ShaKeeL__007 @marksul44 @P3ng1z @BernieSander...            True   \n",
       "870         This is a perfect example of how Jews across N...            True   \n",
       "763         Jews were the major cotton traders &amp; had n...            True   \n",
       "3744        🙊 I bet #randum The media's slanted view of ki...            True   \n",
       "1525        21 year old Palestinian woman murdered by her ...            True   \n",
       "...                                                       ...             ...   \n",
       "1594        I Agree!!! Too much Islam!!!!Stop defamation o...            True   \n",
       "3547                                   Another zionazi pogrom            True   \n",
       "1125        Paul Nehlen is a white supremacist who wants t...            True   \n",
       "1413        The Democrats who skip AIPAC are not friends t...            True   \n",
       "2716        British people love to talk about saving Jews ...            True   \n",
       "\n",
       "            Still.Exists.y  In.English.x  In.English.y  ...  Disagree.With.x  \\\n",
       "Unnamed: 0                                              ...                    \n",
       "2454                  True          True          True  ...            False   \n",
       "870                   True          True          True  ...            False   \n",
       "763                   True          True          True  ...            False   \n",
       "3744                  True          True          True  ...            False   \n",
       "1525                  True          True          True  ...            False   \n",
       "...                    ...           ...           ...  ...              ...   \n",
       "1594                  True          True          True  ...            False   \n",
       "3547                  True          True          True  ...            False   \n",
       "1125                  True          True          True  ...            False   \n",
       "1413                  True          True          True  ...            False   \n",
       "2716                  True          True          True  ...            False   \n",
       "\n",
       "            Disagree.With.y Sentiment.Rating.x Sentiment.Rating.y  \\\n",
       "Unnamed: 0                                                          \n",
       "2454                  False                  3                  3   \n",
       "870                   False                  2                  2   \n",
       "763                   False                  2                  2   \n",
       "3744                  False                  2                  2   \n",
       "1525                  False                  3                  3   \n",
       "...                     ...                ...                ...   \n",
       "1594                  False                  3                  3   \n",
       "3547                  False                  3                  1   \n",
       "1125                  False                  3                  3   \n",
       "1413                  False                  3                  3   \n",
       "2716                  False                  3                  4   \n",
       "\n",
       "            Calling.Out.x  Calling.Out.y  IHRA.Section.x  IHRA.Section.y  \\\n",
       "Unnamed: 0                                                                 \n",
       "2454                    1              0              13              13   \n",
       "870                     0              0               2               2   \n",
       "763                     0              0               2               2   \n",
       "3744                    1              1               0               0   \n",
       "1525                    0              1              13              13   \n",
       "...                   ...            ...             ...             ...   \n",
       "1594                    0              0              13              13   \n",
       "3547                    0              0              10              10   \n",
       "1125                    1              0              13              13   \n",
       "1413                    1              0              13              13   \n",
       "2716                    0              0              13              13   \n",
       "\n",
       "                          sample_name  Target  \n",
       "Unnamed: 0                                     \n",
       "2454             Jews2020Jan-Apr.rep2       0  \n",
       "870         Jews2020May-Aug.rep1.rep1       1  \n",
       "763              Jews2020Jan-Apr.rep1       1  \n",
       "3744                   kikes2019.rep1       1  \n",
       "1525                    Jews2019.rep2       0  \n",
       "...                               ...     ...  \n",
       "1594                    Jews2019.rep2       0  \n",
       "3547          ZioNazi2020Jan-Apr.rep2       1  \n",
       "1125                    Jews2019.rep1       0  \n",
       "1413                    Jews2019.rep2       0  \n",
       "2716        Jews2020May-Aug.rep1.rep1       0  \n",
       "\n",
       "[3216 rows x 24 columns]"
      ]
     },
     "execution_count": 8,
     "metadata": {},
     "output_type": "execute_result"
    }
   ],
   "source": [
    "df.set_index(['Unnamed: 0'])"
   ]
  },
  {
   "cell_type": "markdown",
   "id": "ada97f19",
   "metadata": {},
   "source": [
    "#### Update the data type of the columns"
   ]
  },
  {
   "cell_type": "code",
   "execution_count": 9,
   "id": "02ac18ab",
   "metadata": {},
   "outputs": [],
   "source": [
    "df['RT_TF'] = df['RT_TF'].astype(int)\n",
    "df['Still.Exists.x'] = df['Still.Exists.x'].astype(int)\n",
    "df['Still.Exists.y'] = df['Still.Exists.y'].astype(int)\n",
    "df['In.English.x'] = df['In.English.x'].astype(int)\n",
    "df['In.English.y'] = df['In.English.y'].astype(int)\n",
    "df['Sarcasm.x'] = df['Sarcasm.x'].astype(int)\n",
    "df['Sarcasm.y'] = df['Sarcasm.y'].astype(int)\n",
    "df['Disagree.With.x'] = df['Disagree.With.x'].astype(int)\n",
    "df['Disagree.With.y'] = df['Disagree.With.y'].astype(int)"
   ]
  },
  {
   "cell_type": "code",
   "execution_count": 10,
   "id": "c9e01f1d",
   "metadata": {
    "scrolled": true
   },
   "outputs": [
    {
     "data": {
      "text/plain": [
       "Unnamed: 0                 int64\n",
       "key                       object\n",
       "create_date               object\n",
       "user                      object\n",
       "userID                   float64\n",
       "RT_TF                      int32\n",
       "full_text                 object\n",
       "Still.Exists.x             int32\n",
       "Still.Exists.y             int32\n",
       "In.English.x               int32\n",
       "In.English.y               int32\n",
       "Sarcasm.x                  int32\n",
       "Sarcasm.y                  int32\n",
       "Additional.Comments.x     object\n",
       "Additional.Comments.y     object\n",
       "Disagree.With.x            int32\n",
       "Disagree.With.y            int32\n",
       "Sentiment.Rating.x         int64\n",
       "Sentiment.Rating.y         int64\n",
       "Calling.Out.x              int64\n",
       "Calling.Out.y              int64\n",
       "IHRA.Section.x             int64\n",
       "IHRA.Section.y             int64\n",
       "sample_name               object\n",
       "Target                     int64\n",
       "dtype: object"
      ]
     },
     "execution_count": 10,
     "metadata": {},
     "output_type": "execute_result"
    }
   ],
   "source": [
    "df.dtypes"
   ]
  },
  {
   "cell_type": "markdown",
   "id": "7206efeb",
   "metadata": {},
   "source": [
    "#### Split the 'create_date' column to store the year, month and date seperately"
   ]
  },
  {
   "cell_type": "code",
   "execution_count": 11,
   "id": "0803fddd",
   "metadata": {},
   "outputs": [
    {
     "data": {
      "text/html": [
       "<div>\n",
       "<style scoped>\n",
       "    .dataframe tbody tr th:only-of-type {\n",
       "        vertical-align: middle;\n",
       "    }\n",
       "\n",
       "    .dataframe tbody tr th {\n",
       "        vertical-align: top;\n",
       "    }\n",
       "\n",
       "    .dataframe thead th {\n",
       "        text-align: right;\n",
       "    }\n",
       "</style>\n",
       "<table border=\"1\" class=\"dataframe\">\n",
       "  <thead>\n",
       "    <tr style=\"text-align: right;\">\n",
       "      <th></th>\n",
       "      <th>Unnamed: 0</th>\n",
       "      <th>key</th>\n",
       "      <th>create_date</th>\n",
       "      <th>user</th>\n",
       "      <th>userID</th>\n",
       "      <th>RT_TF</th>\n",
       "      <th>full_text</th>\n",
       "      <th>Still.Exists.x</th>\n",
       "      <th>Still.Exists.y</th>\n",
       "      <th>In.English.x</th>\n",
       "      <th>...</th>\n",
       "      <th>Sentiment.Rating.y</th>\n",
       "      <th>Calling.Out.x</th>\n",
       "      <th>Calling.Out.y</th>\n",
       "      <th>IHRA.Section.x</th>\n",
       "      <th>IHRA.Section.y</th>\n",
       "      <th>sample_name</th>\n",
       "      <th>Target</th>\n",
       "      <th>year</th>\n",
       "      <th>month</th>\n",
       "      <th>date</th>\n",
       "    </tr>\n",
       "  </thead>\n",
       "  <tbody>\n",
       "    <tr>\n",
       "      <th>0</th>\n",
       "      <td>2454</td>\n",
       "      <td>JewNAS</td>\n",
       "      <td>Tue Feb 25 07:54:26 -0500 2020</td>\n",
       "      <td>Leafy13222544</td>\n",
       "      <td>1.209270e+18</td>\n",
       "      <td>1</td>\n",
       "      <td>@ShaKeeL__007 @marksul44 @P3ng1z @BernieSander...</td>\n",
       "      <td>1</td>\n",
       "      <td>1</td>\n",
       "      <td>1</td>\n",
       "      <td>...</td>\n",
       "      <td>3</td>\n",
       "      <td>1</td>\n",
       "      <td>0</td>\n",
       "      <td>13</td>\n",
       "      <td>13</td>\n",
       "      <td>Jews2020Jan-Apr.rep2</td>\n",
       "      <td>0</td>\n",
       "      <td>2020</td>\n",
       "      <td>2</td>\n",
       "      <td>2020-02-01</td>\n",
       "    </tr>\n",
       "    <tr>\n",
       "      <th>1</th>\n",
       "      <td>870</td>\n",
       "      <td>JewAS</td>\n",
       "      <td>Tue Jun 16 11:13:24 -0400 2020</td>\n",
       "      <td>sharonka3</td>\n",
       "      <td>9.752547e+08</td>\n",
       "      <td>1</td>\n",
       "      <td>This is a perfect example of how Jews across N...</td>\n",
       "      <td>1</td>\n",
       "      <td>1</td>\n",
       "      <td>1</td>\n",
       "      <td>...</td>\n",
       "      <td>2</td>\n",
       "      <td>0</td>\n",
       "      <td>0</td>\n",
       "      <td>2</td>\n",
       "      <td>2</td>\n",
       "      <td>Jews2020May-Aug.rep1.rep1</td>\n",
       "      <td>1</td>\n",
       "      <td>2020</td>\n",
       "      <td>6</td>\n",
       "      <td>2020-06-01</td>\n",
       "    </tr>\n",
       "    <tr>\n",
       "      <th>2</th>\n",
       "      <td>763</td>\n",
       "      <td>JewAS</td>\n",
       "      <td>Thu Feb 27 09:53:39 -0500 2020</td>\n",
       "      <td>SpruceYelverton</td>\n",
       "      <td>1.114823e+09</td>\n",
       "      <td>1</td>\n",
       "      <td>Jews were the major cotton traders &amp;amp; had n...</td>\n",
       "      <td>1</td>\n",
       "      <td>1</td>\n",
       "      <td>1</td>\n",
       "      <td>...</td>\n",
       "      <td>2</td>\n",
       "      <td>0</td>\n",
       "      <td>0</td>\n",
       "      <td>2</td>\n",
       "      <td>2</td>\n",
       "      <td>Jews2020Jan-Apr.rep1</td>\n",
       "      <td>1</td>\n",
       "      <td>2020</td>\n",
       "      <td>2</td>\n",
       "      <td>2020-02-01</td>\n",
       "    </tr>\n",
       "    <tr>\n",
       "      <th>3</th>\n",
       "      <td>3744</td>\n",
       "      <td>KikesAS</td>\n",
       "      <td>Fri Dec 06 08:25:54 -0500 2019</td>\n",
       "      <td>plive_calmer</td>\n",
       "      <td>8.404970e+17</td>\n",
       "      <td>0</td>\n",
       "      <td>🙊 I bet #randum The media's slanted view of ki...</td>\n",
       "      <td>1</td>\n",
       "      <td>1</td>\n",
       "      <td>1</td>\n",
       "      <td>...</td>\n",
       "      <td>2</td>\n",
       "      <td>1</td>\n",
       "      <td>1</td>\n",
       "      <td>0</td>\n",
       "      <td>0</td>\n",
       "      <td>kikes2019.rep1</td>\n",
       "      <td>1</td>\n",
       "      <td>2019</td>\n",
       "      <td>12</td>\n",
       "      <td>2019-12-01</td>\n",
       "    </tr>\n",
       "    <tr>\n",
       "      <th>4</th>\n",
       "      <td>1525</td>\n",
       "      <td>JewNAS</td>\n",
       "      <td>Tue Sep 03 08:53:53 -0400 2019</td>\n",
       "      <td>emzeekg</td>\n",
       "      <td>2.975341e+09</td>\n",
       "      <td>1</td>\n",
       "      <td>21 year old Palestinian woman murdered by her ...</td>\n",
       "      <td>1</td>\n",
       "      <td>1</td>\n",
       "      <td>1</td>\n",
       "      <td>...</td>\n",
       "      <td>3</td>\n",
       "      <td>0</td>\n",
       "      <td>1</td>\n",
       "      <td>13</td>\n",
       "      <td>13</td>\n",
       "      <td>Jews2019.rep2</td>\n",
       "      <td>0</td>\n",
       "      <td>2019</td>\n",
       "      <td>9</td>\n",
       "      <td>2019-09-01</td>\n",
       "    </tr>\n",
       "  </tbody>\n",
       "</table>\n",
       "<p>5 rows × 28 columns</p>\n",
       "</div>"
      ],
      "text/plain": [
       "   Unnamed: 0      key                     create_date             user  \\\n",
       "0        2454   JewNAS  Tue Feb 25 07:54:26 -0500 2020    Leafy13222544   \n",
       "1         870    JewAS  Tue Jun 16 11:13:24 -0400 2020        sharonka3   \n",
       "2         763    JewAS  Thu Feb 27 09:53:39 -0500 2020  SpruceYelverton   \n",
       "3        3744  KikesAS  Fri Dec 06 08:25:54 -0500 2019     plive_calmer   \n",
       "4        1525   JewNAS  Tue Sep 03 08:53:53 -0400 2019          emzeekg   \n",
       "\n",
       "         userID  RT_TF                                          full_text  \\\n",
       "0  1.209270e+18      1  @ShaKeeL__007 @marksul44 @P3ng1z @BernieSander...   \n",
       "1  9.752547e+08      1  This is a perfect example of how Jews across N...   \n",
       "2  1.114823e+09      1  Jews were the major cotton traders &amp; had n...   \n",
       "3  8.404970e+17      0  🙊 I bet #randum The media's slanted view of ki...   \n",
       "4  2.975341e+09      1  21 year old Palestinian woman murdered by her ...   \n",
       "\n",
       "   Still.Exists.x  Still.Exists.y  In.English.x  ...  Sentiment.Rating.y  \\\n",
       "0               1               1             1  ...                   3   \n",
       "1               1               1             1  ...                   2   \n",
       "2               1               1             1  ...                   2   \n",
       "3               1               1             1  ...                   2   \n",
       "4               1               1             1  ...                   3   \n",
       "\n",
       "   Calling.Out.x  Calling.Out.y IHRA.Section.x IHRA.Section.y  \\\n",
       "0              1              0             13             13   \n",
       "1              0              0              2              2   \n",
       "2              0              0              2              2   \n",
       "3              1              1              0              0   \n",
       "4              0              1             13             13   \n",
       "\n",
       "                 sample_name  Target  year  month       date  \n",
       "0       Jews2020Jan-Apr.rep2       0  2020      2 2020-02-01  \n",
       "1  Jews2020May-Aug.rep1.rep1       1  2020      6 2020-06-01  \n",
       "2       Jews2020Jan-Apr.rep1       1  2020      2 2020-02-01  \n",
       "3             kikes2019.rep1       1  2019     12 2019-12-01  \n",
       "4              Jews2019.rep2       0  2019      9 2019-09-01  \n",
       "\n",
       "[5 rows x 28 columns]"
      ]
     },
     "execution_count": 11,
     "metadata": {},
     "output_type": "execute_result"
    }
   ],
   "source": [
    "month_labels = {'Jan':1, 'Feb':2,'Mar':3,'Apr':4,'May':5,'Jun':6,'Jul':7,\n",
    "               'Aug':8,'Sep':9,'Oct':10,'Nov':11,'Dec':12}\n",
    "df['year'] = df['create_date'].str[-4:]\n",
    "df['month'] = df['create_date'].str[4:7]\n",
    "df['month'] = df['month'].apply(lambda x: month_labels[x])\n",
    "df['date'] = pd.to_datetime(df[['year', 'month']].assign(DAY=1))\n",
    "df['date']= pd.to_datetime(df['date'])\n",
    "df.head()\n"
   ]
  },
  {
   "cell_type": "markdown",
   "id": "abb28fd0",
   "metadata": {},
   "source": [
    "#### Plot the counts of 0's and 1's in the 'Target' column"
   ]
  },
  {
   "cell_type": "code",
   "execution_count": 12,
   "id": "42eb786e",
   "metadata": {},
   "outputs": [
    {
     "data": {
      "text/plain": [
       "<AxesSubplot:xlabel='Target', ylabel='count'>"
      ]
     },
     "execution_count": 12,
     "metadata": {},
     "output_type": "execute_result"
    },
    {
     "data": {
      "image/png": "[encoded data removed]",
      "text/plain": [
       "<Figure size 432x288 with 1 Axes>"
      ]
     },
     "metadata": {
      "needs_background": "light"
     },
     "output_type": "display_data"
    }
   ],
   "source": [
    "import seaborn as sns\n",
    "sns.countplot(data = df,x = 'Target')"
   ]
  },
  {
   "cell_type": "markdown",
   "id": "b4134111",
   "metadata": {},
   "source": [
    "### We see that there is a class imbalance. So we will be doing upsampling to overcome this"
   ]
  },
  {
   "cell_type": "code",
   "execution_count": 13,
   "id": "0e76d5f4",
   "metadata": {},
   "outputs": [
    {
     "data": {
      "text/html": [
       "<div>\n",
       "<style scoped>\n",
       "    .dataframe tbody tr th:only-of-type {\n",
       "        vertical-align: middle;\n",
       "    }\n",
       "\n",
       "    .dataframe tbody tr th {\n",
       "        vertical-align: top;\n",
       "    }\n",
       "\n",
       "    .dataframe thead th {\n",
       "        text-align: right;\n",
       "    }\n",
       "</style>\n",
       "<table border=\"1\" class=\"dataframe\">\n",
       "  <thead>\n",
       "    <tr style=\"text-align: right;\">\n",
       "      <th>Sentiment.Rating.x</th>\n",
       "      <th>1</th>\n",
       "      <th>2</th>\n",
       "      <th>3</th>\n",
       "      <th>4</th>\n",
       "      <th>5</th>\n",
       "    </tr>\n",
       "    <tr>\n",
       "      <th>Target</th>\n",
       "      <th></th>\n",
       "      <th></th>\n",
       "      <th></th>\n",
       "      <th></th>\n",
       "      <th></th>\n",
       "    </tr>\n",
       "  </thead>\n",
       "  <tbody>\n",
       "    <tr>\n",
       "      <th>0</th>\n",
       "      <td>0.015770</td>\n",
       "      <td>0.054590</td>\n",
       "      <td>0.881116</td>\n",
       "      <td>0.043267</td>\n",
       "      <td>0.005257</td>\n",
       "    </tr>\n",
       "    <tr>\n",
       "      <th>1</th>\n",
       "      <td>0.242261</td>\n",
       "      <td>0.414536</td>\n",
       "      <td>0.340511</td>\n",
       "      <td>0.002692</td>\n",
       "      <td>NaN</td>\n",
       "    </tr>\n",
       "  </tbody>\n",
       "</table>\n",
       "</div>"
      ],
      "text/plain": [
       "Sentiment.Rating.x         1         2         3         4         5\n",
       "Target                                                              \n",
       "0                   0.015770  0.054590  0.881116  0.043267  0.005257\n",
       "1                   0.242261  0.414536  0.340511  0.002692       NaN"
      ]
     },
     "execution_count": 13,
     "metadata": {},
     "output_type": "execute_result"
    }
   ],
   "source": [
    "g1_x = pd.DataFrame(df[['Sentiment.Rating.x','Target']].value_counts().groupby(level = 1).transform(lambda x: x/x.sum()))\n",
    "g1_x.reset_index(inplace = True)\n",
    "g1_x.sort_values(by = 'Target', inplace = True)\n",
    "g1x_new = g1_x.pivot(index = 'Target' ,columns = 'Sentiment.Rating.x', values = 0)\n",
    "g1x_new"
   ]
  },
  {
   "cell_type": "markdown",
   "id": "cf45c5ff",
   "metadata": {},
   "source": [
    "#### Plot a bar graph of Difference between AS and NAS as a function of Sentiment Rating (Annotator X)"
   ]
  },
  {
   "cell_type": "code",
   "execution_count": 14,
   "id": "5fbf6914",
   "metadata": {
    "scrolled": true
   },
   "outputs": [
    {
     "data": {
      "text/plain": [
       "Text(0.5, 1.0, 'Sentiment Rating (Annotator X) vs Classification')"
      ]
     },
     "execution_count": 14,
     "metadata": {},
     "output_type": "execute_result"
    },
    {
     "data": {
      "image/png": "[encoded data removed]",
      "text/plain": [
       "<Figure size 432x288 with 1 Axes>"
      ]
     },
     "metadata": {
      "needs_background": "light"
     },
     "output_type": "display_data"
    }
   ],
   "source": [
    "g1x_new.plot(kind='bar', stacked = True)\n",
    "plt.legend(loc='best')\n",
    "plt.title('Sentiment Rating (Annotator X) vs Classification')"
   ]
  },
  {
   "cell_type": "code",
   "execution_count": 15,
   "id": "612619ff",
   "metadata": {},
   "outputs": [
    {
     "data": {
      "text/html": [
       "<div>\n",
       "<style scoped>\n",
       "    .dataframe tbody tr th:only-of-type {\n",
       "        vertical-align: middle;\n",
       "    }\n",
       "\n",
       "    .dataframe tbody tr th {\n",
       "        vertical-align: top;\n",
       "    }\n",
       "\n",
       "    .dataframe thead th {\n",
       "        text-align: right;\n",
       "    }\n",
       "</style>\n",
       "<table border=\"1\" class=\"dataframe\">\n",
       "  <thead>\n",
       "    <tr style=\"text-align: right;\">\n",
       "      <th>Sentiment.Rating.y</th>\n",
       "      <th>1</th>\n",
       "      <th>2</th>\n",
       "      <th>3</th>\n",
       "      <th>4</th>\n",
       "      <th>5</th>\n",
       "    </tr>\n",
       "    <tr>\n",
       "      <th>Target</th>\n",
       "      <th></th>\n",
       "      <th></th>\n",
       "      <th></th>\n",
       "      <th></th>\n",
       "      <th></th>\n",
       "    </tr>\n",
       "  </thead>\n",
       "  <tbody>\n",
       "    <tr>\n",
       "      <th>0</th>\n",
       "      <td>0.018197</td>\n",
       "      <td>0.027093</td>\n",
       "      <td>0.897695</td>\n",
       "      <td>0.048928</td>\n",
       "      <td>0.008087</td>\n",
       "    </tr>\n",
       "    <tr>\n",
       "      <th>1</th>\n",
       "      <td>0.438762</td>\n",
       "      <td>0.398385</td>\n",
       "      <td>0.160162</td>\n",
       "      <td>0.002692</td>\n",
       "      <td>NaN</td>\n",
       "    </tr>\n",
       "  </tbody>\n",
       "</table>\n",
       "</div>"
      ],
      "text/plain": [
       "Sentiment.Rating.y         1         2         3         4         5\n",
       "Target                                                              \n",
       "0                   0.018197  0.027093  0.897695  0.048928  0.008087\n",
       "1                   0.438762  0.398385  0.160162  0.002692       NaN"
      ]
     },
     "execution_count": 15,
     "metadata": {},
     "output_type": "execute_result"
    }
   ],
   "source": [
    "g1_y = pd.DataFrame(df[['Sentiment.Rating.y','Target']].value_counts().groupby(level = 1).transform(lambda x: x/x.sum()))\n",
    "g1_y.reset_index(inplace = True)\n",
    "g1_y.sort_values(by = 'Target', inplace = True)\n",
    "g1y_new = g1_y.pivot(index = 'Target' ,columns = 'Sentiment.Rating.y', values = 0)\n",
    "g1y_new"
   ]
  },
  {
   "cell_type": "markdown",
   "id": "be8809c2",
   "metadata": {},
   "source": [
    "#### Plot a bar graph of Classification as a function of Sentiment Rating (Annotator Y)"
   ]
  },
  {
   "cell_type": "code",
   "execution_count": 16,
   "id": "7c743a53",
   "metadata": {},
   "outputs": [
    {
     "data": {
      "text/plain": [
       "Text(0.5, 1.0, 'Sentiment Rating (Annotator Y) vs Classification')"
      ]
     },
     "execution_count": 16,
     "metadata": {},
     "output_type": "execute_result"
    },
    {
     "data": {
      "image/png": "[encoded data removed]",
      "text/plain": [
       "<Figure size 432x288 with 1 Axes>"
      ]
     },
     "metadata": {
      "needs_background": "light"
     },
     "output_type": "display_data"
    }
   ],
   "source": [
    "g1y_new.plot(kind='bar', stacked = True)\n",
    "plt.legend(loc='best')\n",
    "plt.title('Sentiment Rating (Annotator Y) vs Classification')"
   ]
  },
  {
   "cell_type": "markdown",
   "id": "635978c4",
   "metadata": {},
   "source": [
    "#### Annotator Y rate the anti semitic tweets to be highly negative than Annotator X"
   ]
  },
  {
   "cell_type": "code",
   "execution_count": 17,
   "id": "8510057c",
   "metadata": {},
   "outputs": [
    {
     "data": {
      "text/html": [
       "<div>\n",
       "<style scoped>\n",
       "    .dataframe tbody tr th:only-of-type {\n",
       "        vertical-align: middle;\n",
       "    }\n",
       "\n",
       "    .dataframe tbody tr th {\n",
       "        vertical-align: top;\n",
       "    }\n",
       "\n",
       "    .dataframe thead th {\n",
       "        text-align: right;\n",
       "    }\n",
       "</style>\n",
       "<table border=\"1\" class=\"dataframe\">\n",
       "  <thead>\n",
       "    <tr style=\"text-align: right;\">\n",
       "      <th>IHRA.Section.x</th>\n",
       "      <th>0</th>\n",
       "      <th>1</th>\n",
       "      <th>2</th>\n",
       "      <th>3</th>\n",
       "      <th>4</th>\n",
       "      <th>5</th>\n",
       "      <th>6</th>\n",
       "      <th>7</th>\n",
       "      <th>9</th>\n",
       "      <th>10</th>\n",
       "      <th>11</th>\n",
       "      <th>13</th>\n",
       "    </tr>\n",
       "    <tr>\n",
       "      <th>Target</th>\n",
       "      <th></th>\n",
       "      <th></th>\n",
       "      <th></th>\n",
       "      <th></th>\n",
       "      <th></th>\n",
       "      <th></th>\n",
       "      <th></th>\n",
       "      <th></th>\n",
       "      <th></th>\n",
       "      <th></th>\n",
       "      <th></th>\n",
       "      <th></th>\n",
       "    </tr>\n",
       "  </thead>\n",
       "  <tbody>\n",
       "    <tr>\n",
       "      <th>0</th>\n",
       "      <td>0.000404</td>\n",
       "      <td>0.000404</td>\n",
       "      <td>0.010918</td>\n",
       "      <td>NaN</td>\n",
       "      <td>0.016175</td>\n",
       "      <td>0.000404</td>\n",
       "      <td>0.000404</td>\n",
       "      <td>0.004044</td>\n",
       "      <td>0.000404</td>\n",
       "      <td>NaN</td>\n",
       "      <td>NaN</td>\n",
       "      <td>0.966842</td>\n",
       "    </tr>\n",
       "    <tr>\n",
       "      <th>1</th>\n",
       "      <td>0.092867</td>\n",
       "      <td>0.014805</td>\n",
       "      <td>0.224764</td>\n",
       "      <td>0.008075</td>\n",
       "      <td>0.020188</td>\n",
       "      <td>0.005384</td>\n",
       "      <td>0.004038</td>\n",
       "      <td>0.111709</td>\n",
       "      <td>0.024226</td>\n",
       "      <td>0.479139</td>\n",
       "      <td>0.006729</td>\n",
       "      <td>0.008075</td>\n",
       "    </tr>\n",
       "  </tbody>\n",
       "</table>\n",
       "</div>"
      ],
      "text/plain": [
       "IHRA.Section.x        0         1         2         3         4         5   \\\n",
       "Target                                                                       \n",
       "0               0.000404  0.000404  0.010918       NaN  0.016175  0.000404   \n",
       "1               0.092867  0.014805  0.224764  0.008075  0.020188  0.005384   \n",
       "\n",
       "IHRA.Section.x        6         7         9         10        11        13  \n",
       "Target                                                                      \n",
       "0               0.000404  0.004044  0.000404       NaN       NaN  0.966842  \n",
       "1               0.004038  0.111709  0.024226  0.479139  0.006729  0.008075  "
      ]
     },
     "execution_count": 17,
     "metadata": {},
     "output_type": "execute_result"
    }
   ],
   "source": [
    "g2_x = pd.DataFrame(df[['IHRA.Section.x','Target']].value_counts().groupby(level = 1).transform(lambda x: x/x.sum()))\n",
    "g2_x.reset_index(inplace = True)\n",
    "g2_x.sort_values(by = 'Target', inplace = True)\n",
    "g2x_new = g2_x.pivot(index = 'Target' ,columns = 'IHRA.Section.x', values = 0)\n",
    "g2x_new"
   ]
  },
  {
   "cell_type": "markdown",
   "id": "e652d125",
   "metadata": {},
   "source": [
    "#### Plot a bar graph of Classification as a function of IHRA Rating (Annotator X)"
   ]
  },
  {
   "cell_type": "code",
   "execution_count": 18,
   "id": "db4f48a9",
   "metadata": {},
   "outputs": [
    {
     "data": {
      "text/plain": [
       "Text(0.5, 1.0, 'IHRA Rating (Annotator X) vs Classification')"
      ]
     },
     "execution_count": 18,
     "metadata": {},
     "output_type": "execute_result"
    },
    {
     "data": {
      "image/png": "[encoded data removed]",
      "text/plain": [
       "<Figure size 432x288 with 1 Axes>"
      ]
     },
     "metadata": {
      "needs_background": "light"
     },
     "output_type": "display_data"
    }
   ],
   "source": [
    "g2x_new.plot(kind='bar', stacked = True)\n",
    "plt.legend(loc='best')\n",
    "plt.title('IHRA Rating (Annotator X) vs Classification')"
   ]
  },
  {
   "cell_type": "code",
   "execution_count": 19,
   "id": "c399cdcd",
   "metadata": {},
   "outputs": [
    {
     "data": {
      "text/html": [
       "<div>\n",
       "<style scoped>\n",
       "    .dataframe tbody tr th:only-of-type {\n",
       "        vertical-align: middle;\n",
       "    }\n",
       "\n",
       "    .dataframe tbody tr th {\n",
       "        vertical-align: top;\n",
       "    }\n",
       "\n",
       "    .dataframe thead th {\n",
       "        text-align: right;\n",
       "    }\n",
       "</style>\n",
       "<table border=\"1\" class=\"dataframe\">\n",
       "  <thead>\n",
       "    <tr style=\"text-align: right;\">\n",
       "      <th>IHRA.Section.y</th>\n",
       "      <th>0</th>\n",
       "      <th>1</th>\n",
       "      <th>2</th>\n",
       "      <th>3</th>\n",
       "      <th>4</th>\n",
       "      <th>5</th>\n",
       "      <th>6</th>\n",
       "      <th>7</th>\n",
       "      <th>8</th>\n",
       "      <th>9</th>\n",
       "      <th>10</th>\n",
       "      <th>11</th>\n",
       "      <th>13</th>\n",
       "    </tr>\n",
       "    <tr>\n",
       "      <th>Target</th>\n",
       "      <th></th>\n",
       "      <th></th>\n",
       "      <th></th>\n",
       "      <th></th>\n",
       "      <th></th>\n",
       "      <th></th>\n",
       "      <th></th>\n",
       "      <th></th>\n",
       "      <th></th>\n",
       "      <th></th>\n",
       "      <th></th>\n",
       "      <th></th>\n",
       "      <th></th>\n",
       "    </tr>\n",
       "  </thead>\n",
       "  <tbody>\n",
       "    <tr>\n",
       "      <th>0</th>\n",
       "      <td>NaN</td>\n",
       "      <td>NaN</td>\n",
       "      <td>0.000809</td>\n",
       "      <td>NaN</td>\n",
       "      <td>0.000809</td>\n",
       "      <td>NaN</td>\n",
       "      <td>NaN</td>\n",
       "      <td>0.000809</td>\n",
       "      <td>NaN</td>\n",
       "      <td>0.000404</td>\n",
       "      <td>NaN</td>\n",
       "      <td>NaN</td>\n",
       "      <td>0.997169</td>\n",
       "    </tr>\n",
       "    <tr>\n",
       "      <th>1</th>\n",
       "      <td>0.168237</td>\n",
       "      <td>0.020188</td>\n",
       "      <td>0.325707</td>\n",
       "      <td>0.02288</td>\n",
       "      <td>0.018843</td>\n",
       "      <td>0.008075</td>\n",
       "      <td>0.008075</td>\n",
       "      <td>0.165545</td>\n",
       "      <td>0.004038</td>\n",
       "      <td>0.017497</td>\n",
       "      <td>0.191117</td>\n",
       "      <td>0.02961</td>\n",
       "      <td>0.020188</td>\n",
       "    </tr>\n",
       "  </tbody>\n",
       "</table>\n",
       "</div>"
      ],
      "text/plain": [
       "IHRA.Section.y        0         1         2        3         4         5   \\\n",
       "Target                                                                      \n",
       "0                    NaN       NaN  0.000809      NaN  0.000809       NaN   \n",
       "1               0.168237  0.020188  0.325707  0.02288  0.018843  0.008075   \n",
       "\n",
       "IHRA.Section.y        6         7         8         9         10       11  \\\n",
       "Target                                                                      \n",
       "0                    NaN  0.000809       NaN  0.000404       NaN      NaN   \n",
       "1               0.008075  0.165545  0.004038  0.017497  0.191117  0.02961   \n",
       "\n",
       "IHRA.Section.y        13  \n",
       "Target                    \n",
       "0               0.997169  \n",
       "1               0.020188  "
      ]
     },
     "execution_count": 19,
     "metadata": {},
     "output_type": "execute_result"
    }
   ],
   "source": [
    "g2_y = pd.DataFrame(df[['IHRA.Section.y','Target']].value_counts().groupby(level = 1).transform(lambda x: x/x.sum()))\n",
    "g2_y.reset_index(inplace = True)\n",
    "g2_y.sort_values(by = 'Target', inplace = True)\n",
    "g2y_new = g2_y.pivot(index = 'Target' ,columns = 'IHRA.Section.y', values = 0)\n",
    "g2y_new"
   ]
  },
  {
   "cell_type": "markdown",
   "id": "f43ef31b",
   "metadata": {},
   "source": [
    "#### Plot a bar graph of Classification as a function of IHRA Rating (Annotator Y)"
   ]
  },
  {
   "cell_type": "code",
   "execution_count": 20,
   "id": "7159a1c1",
   "metadata": {},
   "outputs": [
    {
     "data": {
      "text/plain": [
       "Text(0.5, 1.0, 'IHRA Rating (Annotator Y) vs Classification')"
      ]
     },
     "execution_count": 20,
     "metadata": {},
     "output_type": "execute_result"
    },
    {
     "data": {
      "image/png": "[encoded data removed]",
      "text/plain": [
       "<Figure size 432x288 with 1 Axes>"
      ]
     },
     "metadata": {
      "needs_background": "light"
     },
     "output_type": "display_data"
    }
   ],
   "source": [
    "g2y_new.plot(kind='bar', stacked = True)\n",
    "plt.legend(loc='best')\n",
    "plt.title('IHRA Rating (Annotator Y) vs Classification')"
   ]
  },
  {
   "cell_type": "code",
   "execution_count": 21,
   "id": "61233062",
   "metadata": {
    "scrolled": true
   },
   "outputs": [
    {
     "data": {
      "text/plain": [
       "Index(['Unnamed: 0', 'key', 'create_date', 'user', 'userID', 'RT_TF',\n",
       "       'full_text', 'Still.Exists.x', 'Still.Exists.y', 'In.English.x',\n",
       "       'In.English.y', 'Sarcasm.x', 'Sarcasm.y', 'Additional.Comments.x',\n",
       "       'Additional.Comments.y', 'Disagree.With.x', 'Disagree.With.y',\n",
       "       'Sentiment.Rating.x', 'Sentiment.Rating.y', 'Calling.Out.x',\n",
       "       'Calling.Out.y', 'IHRA.Section.x', 'IHRA.Section.y', 'sample_name',\n",
       "       'Target', 'year', 'month', 'date'],\n",
       "      dtype='object')"
      ]
     },
     "execution_count": 21,
     "metadata": {},
     "output_type": "execute_result"
    }
   ],
   "source": [
    "df.columns"
   ]
  },
  {
   "cell_type": "code",
   "execution_count": 22,
   "id": "78685796",
   "metadata": {},
   "outputs": [
    {
     "data": {
      "text/html": [
       "<div>\n",
       "<style scoped>\n",
       "    .dataframe tbody tr th:only-of-type {\n",
       "        vertical-align: middle;\n",
       "    }\n",
       "\n",
       "    .dataframe tbody tr th {\n",
       "        vertical-align: top;\n",
       "    }\n",
       "\n",
       "    .dataframe thead th {\n",
       "        text-align: right;\n",
       "    }\n",
       "</style>\n",
       "<table border=\"1\" class=\"dataframe\">\n",
       "  <thead>\n",
       "    <tr style=\"text-align: right;\">\n",
       "      <th>Sarcasm.x</th>\n",
       "      <th>0</th>\n",
       "      <th>1</th>\n",
       "    </tr>\n",
       "    <tr>\n",
       "      <th>Target</th>\n",
       "      <th></th>\n",
       "      <th></th>\n",
       "    </tr>\n",
       "  </thead>\n",
       "  <tbody>\n",
       "    <tr>\n",
       "      <th>0</th>\n",
       "      <td>0.978569</td>\n",
       "      <td>0.021431</td>\n",
       "    </tr>\n",
       "    <tr>\n",
       "      <th>1</th>\n",
       "      <td>0.989233</td>\n",
       "      <td>0.010767</td>\n",
       "    </tr>\n",
       "  </tbody>\n",
       "</table>\n",
       "</div>"
      ],
      "text/plain": [
       "Sarcasm.x         0         1\n",
       "Target                       \n",
       "0          0.978569  0.021431\n",
       "1          0.989233  0.010767"
      ]
     },
     "execution_count": 22,
     "metadata": {},
     "output_type": "execute_result"
    }
   ],
   "source": [
    "g3_x = pd.DataFrame(df[['Sarcasm.x','Target']].value_counts().groupby(level = 1).transform(lambda x: x/x.sum()))\n",
    "g3_x.reset_index(inplace = True)\n",
    "g3_x.sort_values(by = 'Target', inplace = True)\n",
    "g3x_new = g3_x.pivot(index = 'Target' ,columns = 'Sarcasm.x', values = 0)\n",
    "g3x_new"
   ]
  },
  {
   "cell_type": "markdown",
   "id": "bbbbe060",
   "metadata": {},
   "source": [
    "#### Plot a bar graph of Classification as a function of Sarcasm (Annotator X)"
   ]
  },
  {
   "cell_type": "code",
   "execution_count": 23,
   "id": "acba3748",
   "metadata": {
    "scrolled": true
   },
   "outputs": [
    {
     "data": {
      "text/plain": [
       "Text(0.5, 1.0, 'Sarcasm (Annotator X) vs Classification')"
      ]
     },
     "execution_count": 23,
     "metadata": {},
     "output_type": "execute_result"
    },
    {
     "data": {
      "image/png": "[encoded data removed]",
      "text/plain": [
       "<Figure size 432x288 with 1 Axes>"
      ]
     },
     "metadata": {
      "needs_background": "light"
     },
     "output_type": "display_data"
    }
   ],
   "source": [
    "g3x_new.plot(kind='bar', stacked = True)\n",
    "plt.legend(loc='best')\n",
    "plt.title('Sarcasm (Annotator X) vs Classification')"
   ]
  },
  {
   "cell_type": "code",
   "execution_count": 24,
   "id": "b0091f87",
   "metadata": {},
   "outputs": [
    {
     "data": {
      "text/html": [
       "<div>\n",
       "<style scoped>\n",
       "    .dataframe tbody tr th:only-of-type {\n",
       "        vertical-align: middle;\n",
       "    }\n",
       "\n",
       "    .dataframe tbody tr th {\n",
       "        vertical-align: top;\n",
       "    }\n",
       "\n",
       "    .dataframe thead th {\n",
       "        text-align: right;\n",
       "    }\n",
       "</style>\n",
       "<table border=\"1\" class=\"dataframe\">\n",
       "  <thead>\n",
       "    <tr style=\"text-align: right;\">\n",
       "      <th>Sarcasm.y</th>\n",
       "      <th>0</th>\n",
       "      <th>1</th>\n",
       "    </tr>\n",
       "    <tr>\n",
       "      <th>Target</th>\n",
       "      <th></th>\n",
       "      <th></th>\n",
       "    </tr>\n",
       "  </thead>\n",
       "  <tbody>\n",
       "    <tr>\n",
       "      <th>0</th>\n",
       "      <td>0.977760</td>\n",
       "      <td>0.022240</td>\n",
       "    </tr>\n",
       "    <tr>\n",
       "      <th>1</th>\n",
       "      <td>0.983849</td>\n",
       "      <td>0.016151</td>\n",
       "    </tr>\n",
       "  </tbody>\n",
       "</table>\n",
       "</div>"
      ],
      "text/plain": [
       "Sarcasm.y         0         1\n",
       "Target                       \n",
       "0          0.977760  0.022240\n",
       "1          0.983849  0.016151"
      ]
     },
     "execution_count": 24,
     "metadata": {},
     "output_type": "execute_result"
    }
   ],
   "source": [
    "g3_y = pd.DataFrame(df[['Sarcasm.y','Target']].value_counts().groupby(level = 1).transform(lambda x: x/x.sum()))\n",
    "g3_y.reset_index(inplace = True)\n",
    "g3_y.sort_values(by = 'Target', inplace = True)\n",
    "g3y_new = g3_y.pivot(index = 'Target' ,columns = 'Sarcasm.y', values = 0)\n",
    "g3y_new"
   ]
  },
  {
   "cell_type": "markdown",
   "id": "95ad5b50",
   "metadata": {},
   "source": [
    "#### Plot a bar graph of Classification as a function of Sarcasm (Annotator Y)"
   ]
  },
  {
   "cell_type": "code",
   "execution_count": 25,
   "id": "2e9e77be",
   "metadata": {
    "scrolled": true
   },
   "outputs": [
    {
     "data": {
      "text/plain": [
       "Text(0.5, 1.0, 'Sarcasm (Annotator Y) vs Classification')"
      ]
     },
     "execution_count": 25,
     "metadata": {},
     "output_type": "execute_result"
    },
    {
     "data": {
      "image/png": "[encoded data removed]",
      "text/plain": [
       "<Figure size 432x288 with 1 Axes>"
      ]
     },
     "metadata": {
      "needs_background": "light"
     },
     "output_type": "display_data"
    }
   ],
   "source": [
    "g3y_new.plot(kind='bar', stacked = True)\n",
    "plt.legend(loc='best')\n",
    "plt.title('Sarcasm (Annotator Y) vs Classification')"
   ]
  },
  {
   "cell_type": "code",
   "execution_count": 26,
   "id": "c7e560ad",
   "metadata": {},
   "outputs": [
    {
     "data": {
      "text/html": [
       "<div>\n",
       "<style scoped>\n",
       "    .dataframe tbody tr th:only-of-type {\n",
       "        vertical-align: middle;\n",
       "    }\n",
       "\n",
       "    .dataframe tbody tr th {\n",
       "        vertical-align: top;\n",
       "    }\n",
       "\n",
       "    .dataframe thead th {\n",
       "        text-align: right;\n",
       "    }\n",
       "</style>\n",
       "<table border=\"1\" class=\"dataframe\">\n",
       "  <thead>\n",
       "    <tr style=\"text-align: right;\">\n",
       "      <th></th>\n",
       "      <th>date</th>\n",
       "      <th>key</th>\n",
       "      <th>0</th>\n",
       "    </tr>\n",
       "  </thead>\n",
       "  <tbody>\n",
       "    <tr>\n",
       "      <th>109</th>\n",
       "      <td>2018-12-01</td>\n",
       "      <td>JewNAS</td>\n",
       "      <td>1</td>\n",
       "    </tr>\n",
       "    <tr>\n",
       "      <th>68</th>\n",
       "      <td>2019-01-01</td>\n",
       "      <td>KikesNAS</td>\n",
       "      <td>9</td>\n",
       "    </tr>\n",
       "    <tr>\n",
       "      <th>76</th>\n",
       "      <td>2019-01-01</td>\n",
       "      <td>KikesAS</td>\n",
       "      <td>6</td>\n",
       "    </tr>\n",
       "    <tr>\n",
       "      <th>79</th>\n",
       "      <td>2019-01-01</td>\n",
       "      <td>JewAS</td>\n",
       "      <td>6</td>\n",
       "    </tr>\n",
       "    <tr>\n",
       "      <th>44</th>\n",
       "      <td>2019-01-01</td>\n",
       "      <td>ZioNaziAS</td>\n",
       "      <td>19</td>\n",
       "    </tr>\n",
       "  </tbody>\n",
       "</table>\n",
       "</div>"
      ],
      "text/plain": [
       "          date        key   0\n",
       "109 2018-12-01     JewNAS   1\n",
       "68  2019-01-01   KikesNAS   9\n",
       "76  2019-01-01    KikesAS   6\n",
       "79  2019-01-01      JewAS   6\n",
       "44  2019-01-01  ZioNaziAS  19"
      ]
     },
     "execution_count": 26,
     "metadata": {},
     "output_type": "execute_result"
    }
   ],
   "source": [
    "gb = pd.DataFrame(df[['date','key']].value_counts())\n",
    "gb.reset_index(inplace = True)\n",
    "gb.sort_values(by = 'date', inplace = True)\n",
    "gb.head()"
   ]
  },
  {
   "cell_type": "code",
   "execution_count": 27,
   "id": "74f4dbe4",
   "metadata": {},
   "outputs": [],
   "source": [
    "gb.set_index(['date'], inplace = True)"
   ]
  },
  {
   "cell_type": "code",
   "execution_count": 28,
   "id": "93005d34",
   "metadata": {},
   "outputs": [
    {
     "data": {
      "text/plain": [
       "JewNAS        21\n",
       "JewAS         20\n",
       "ZioNaziAS     16\n",
       "ZioNaziNAS    13\n",
       "KikesAS       12\n",
       "KikesNAS      12\n",
       "IsraelNAS      8\n",
       "IsraelAS       8\n",
       "Name: key, dtype: int64"
      ]
     },
     "execution_count": 28,
     "metadata": {},
     "output_type": "execute_result"
    }
   ],
   "source": [
    "gb.iloc[:,-2].value_counts()"
   ]
  },
  {
   "cell_type": "markdown",
   "id": "306c1041",
   "metadata": {},
   "source": [
    "## Plotting graphs to identify any variation in the usage of pejorative terms and slurs "
   ]
  },
  {
   "cell_type": "markdown",
   "id": "e72c3d09",
   "metadata": {},
   "source": [
    "#### Plot a graph to show the Usage of generic words over a period of time"
   ]
  },
  {
   "cell_type": "code",
   "execution_count": 29,
   "id": "ef049f1c",
   "metadata": {},
   "outputs": [
    {
     "data": {
      "text/plain": [
       "Text(0.5, 1.0, 'Usage of Generic Words Over Time')"
      ]
     },
     "execution_count": 29,
     "metadata": {},
     "output_type": "execute_result"
    },
    {
     "data": {
      "image/png": "[encoded data removed]",
      "text/plain": [
       "<Figure size 864x432 with 1 Axes>"
      ]
     },
     "metadata": {
      "needs_background": "light"
     },
     "output_type": "display_data"
    }
   ],
   "source": [
    "import matplotlib.pyplot as plt\n",
    "plt.figure(figsize=(12,6))\n",
    "plt.xlabel('Date')\n",
    "plt.ylabel('Count')\n",
    "plt.plot(gb[gb['key']=='JewNAS'].iloc[:,-1], label = 'JewNAS')\n",
    "plt.plot(gb[gb['key']=='JewAS'].iloc[:,-1], label = 'JewAS')\n",
    "plt.plot(gb[gb['key']=='IsraelNAS'].iloc[:,-1], label = 'IsraelNAS')\n",
    "plt.plot(gb[gb['key']=='IsraelAS'].iloc[:,-1], label = 'IsraelAS')\n",
    "plt.legend()\n",
    "plt.title('Usage of Generic Words Over Time')"
   ]
  },
  {
   "cell_type": "markdown",
   "id": "bb09eaea",
   "metadata": {},
   "source": [
    "### We see that the usage of jews started to peak in 2020. Usage of Israel began starting 2020."
   ]
  },
  {
   "cell_type": "markdown",
   "id": "a38760d3",
   "metadata": {},
   "source": [
    "#### Plot a graph to show the Usage of slur words over a period of time"
   ]
  },
  {
   "cell_type": "code",
   "execution_count": 30,
   "id": "a76eada9",
   "metadata": {},
   "outputs": [
    {
     "data": {
      "text/plain": [
       "Text(0.5, 1.0, 'Usage of Slur Words Over Time')"
      ]
     },
     "execution_count": 30,
     "metadata": {},
     "output_type": "execute_result"
    },
    {
     "data": {
      "image/png": "[encoded data removed]",
      "text/plain": [
       "<Figure size 864x432 with 1 Axes>"
      ]
     },
     "metadata": {
      "needs_background": "light"
     },
     "output_type": "display_data"
    }
   ],
   "source": [
    "plt.figure(figsize=(12,6))\n",
    "plt.xlabel('Date')\n",
    "plt.ylabel('Count')\n",
    "plt.plot(gb[gb['key']=='KikesNAS'].iloc[:,-1], label = 'KikesNAS')\n",
    "plt.plot(gb[gb['key']=='KikesAS'].iloc[:,-1], label = 'KikesAS')\n",
    "plt.plot(gb[gb['key']=='ZioNaziNAS'].iloc[:,-1], label = 'ZioNaziNAS')\n",
    "plt.plot(gb[gb['key']=='ZioNaziAS'].iloc[:,-1], label = 'ZioNaziAS')\n",
    "plt.legend()\n",
    "plt.title('Usage of Slur Words Over Time')"
   ]
  },
  {
   "cell_type": "markdown",
   "id": "0c03660e",
   "metadata": {},
   "source": [
    "###  Usage of Kikes peaked in Nov 2019 and then dropped to zero. Usage of Nazi increased every alternate month"
   ]
  },
  {
   "cell_type": "markdown",
   "id": "8e183728",
   "metadata": {},
   "source": [
    "#### Find the correlations between columns"
   ]
  },
  {
   "cell_type": "code",
   "execution_count": 31,
   "id": "4962f917",
   "metadata": {},
   "outputs": [
    {
     "data": {
      "text/plain": [
       "IHRA.Section.y       -0.872644\n",
       "IHRA.Section.x       -0.729260\n",
       "Sentiment.Rating.y   -0.723462\n",
       "Sentiment.Rating.x   -0.571269\n",
       "RT_TF                -0.281357\n",
       "Calling.Out.x        -0.198643\n",
       "Calling.Out.y        -0.148500\n",
       "Still.Exists.x       -0.124562\n",
       "Still.Exists.y       -0.115336\n",
       "Disagree.With.x      -0.047500\n",
       "Sarcasm.x            -0.032951\n",
       "Sarcasm.y            -0.017971\n",
       "Disagree.With.y      -0.016569\n",
       "month                 0.046337\n",
       "userID                0.088735\n",
       "Unnamed: 0            0.163121\n",
       "Target                1.000000\n",
       "In.English.x               NaN\n",
       "In.English.y               NaN\n",
       "Name: Target, dtype: float64"
      ]
     },
     "execution_count": 31,
     "metadata": {},
     "output_type": "execute_result"
    },
    {
     "data": {
      "text/plain": [
       "<Figure size 864x432 with 0 Axes>"
      ]
     },
     "metadata": {},
     "output_type": "display_data"
    }
   ],
   "source": [
    "import seaborn as sns\n",
    "plt.figure(figsize=(12,6))\n",
    "cor = df.corr()\n",
    "cor['Target'].sort_values()"
   ]
  },
  {
   "cell_type": "markdown",
   "id": "eed48ee5",
   "metadata": {},
   "source": [
    "#### We see that IHRA and sentiment rating has the highest correlation with out target variable"
   ]
  },
  {
   "cell_type": "markdown",
   "id": "e48d472a",
   "metadata": {},
   "source": [
    "#### Perform One hot encoding to convert the categorical variables for better prediction"
   ]
  },
  {
   "cell_type": "code",
   "execution_count": 32,
   "id": "27ef5b09",
   "metadata": {},
   "outputs": [],
   "source": [
    "from sklearn.preprocessing import OneHotEncoder\n",
    "\n",
    "cat_features = df[['key']]\n",
    "                  #'IHRA.Section.x','IHRA.Section.y', 'Sentiment.Rating.x', 'Sentiment.Rating.y']]\n",
    "ohe1 = OneHotEncoder( handle_unknown = 'ignore')\n",
    "df_ohe = ohe1.fit_transform(cat_features)\n",
    "df[ohe1.categories_[0]] =  df_ohe.toarray()"
   ]
  },
  {
   "cell_type": "code",
   "execution_count": 33,
   "id": "0bb73216",
   "metadata": {},
   "outputs": [],
   "source": [
    "cat_features = df[['IHRA.Section.x']]\n",
    "                  #'IHRA.Section.x','IHRA.Section.y', 'Sentiment.Rating.x', 'Sentiment.Rating.y']]\n",
    "ohe2 = OneHotEncoder(handle_unknown = 'ignore')\n",
    "df_ohe = ohe2.fit_transform(cat_features)\n",
    "df[ohe2.categories_[0]+1] =  df_ohe.toarray()"
   ]
  },
  {
   "cell_type": "code",
   "execution_count": 34,
   "id": "cce76bdc",
   "metadata": {},
   "outputs": [],
   "source": [
    "cat_features = df[['IHRA.Section.y']]\n",
    "                  #'IHRA.Section.x','IHRA.Section.y', 'Sentiment.Rating.x', 'Sentiment.Rating.y']]\n",
    "ohe3 = OneHotEncoder(handle_unknown = 'ignore')\n",
    "df_ohe = ohe3.fit_transform(cat_features)\n",
    "df[ohe3.categories_[0]+12] =  df_ohe.toarray()"
   ]
  },
  {
   "cell_type": "code",
   "execution_count": 35,
   "id": "c24e724e",
   "metadata": {},
   "outputs": [],
   "source": [
    "cat_features = df[['Sentiment.Rating.x']]\n",
    "                  #'IHRA.Section.x','IHRA.Section.y', 'Sentiment.Rating.x', 'Sentiment.Rating.y']]\n",
    "ohe4 = OneHotEncoder(handle_unknown = 'ignore')\n",
    "df_ohe = ohe4.fit_transform(cat_features)\n",
    "df[ohe4.categories_[0]+123] =  df_ohe.toarray()"
   ]
  },
  {
   "cell_type": "code",
   "execution_count": 36,
   "id": "d0ae27d5",
   "metadata": {},
   "outputs": [],
   "source": [
    "cat_features = df[['Sentiment.Rating.y']]\n",
    "                  #'IHRA.Section.x','IHRA.Section.y', 'Sentiment.Rating.x', 'Sentiment.Rating.y']]\n",
    "ohe5 = OneHotEncoder(handle_unknown = 'ignore')\n",
    "df_ohe = ohe5.fit_transform(cat_features)\n",
    "df[ohe5.categories_[0]+1234] =  df_ohe.toarray()"
   ]
  },
  {
   "cell_type": "code",
   "execution_count": 37,
   "id": "2a520a70",
   "metadata": {},
   "outputs": [],
   "source": [
    "#data = pd.get_dummies(df, columns = ['key', 'IHRA.Section.x','IHRA.Section.y', 'Sentiment.Rating.x', 'Sentiment.Rating.y'])"
   ]
  },
  {
   "cell_type": "markdown",
   "id": "96ec33e0",
   "metadata": {},
   "source": [
    "#### Drop the unnecessary columns"
   ]
  },
  {
   "cell_type": "code",
   "execution_count": 38,
   "id": "a57db4bb",
   "metadata": {},
   "outputs": [],
   "source": [
    "df.drop(['key', 'IHRA.Section.x','IHRA.Section.y', 'Sentiment.Rating.x', 'Sentiment.Rating.y'], axis = 1, inplace = True)"
   ]
  },
  {
   "cell_type": "code",
   "execution_count": 39,
   "id": "b345b44d",
   "metadata": {
    "scrolled": true
   },
   "outputs": [
    {
     "data": {
      "text/html": [
       "<div>\n",
       "<style scoped>\n",
       "    .dataframe tbody tr th:only-of-type {\n",
       "        vertical-align: middle;\n",
       "    }\n",
       "\n",
       "    .dataframe tbody tr th {\n",
       "        vertical-align: top;\n",
       "    }\n",
       "\n",
       "    .dataframe thead th {\n",
       "        text-align: right;\n",
       "    }\n",
       "</style>\n",
       "<table border=\"1\" class=\"dataframe\">\n",
       "  <thead>\n",
       "    <tr style=\"text-align: right;\">\n",
       "      <th></th>\n",
       "      <th>Unnamed: 0</th>\n",
       "      <th>create_date</th>\n",
       "      <th>user</th>\n",
       "      <th>userID</th>\n",
       "      <th>RT_TF</th>\n",
       "      <th>full_text</th>\n",
       "      <th>Still.Exists.x</th>\n",
       "      <th>Still.Exists.y</th>\n",
       "      <th>In.English.x</th>\n",
       "      <th>In.English.y</th>\n",
       "      <th>...</th>\n",
       "      <th>124</th>\n",
       "      <th>125</th>\n",
       "      <th>126</th>\n",
       "      <th>127</th>\n",
       "      <th>128</th>\n",
       "      <th>1235</th>\n",
       "      <th>1236</th>\n",
       "      <th>1237</th>\n",
       "      <th>1238</th>\n",
       "      <th>1239</th>\n",
       "    </tr>\n",
       "  </thead>\n",
       "  <tbody>\n",
       "    <tr>\n",
       "      <th>0</th>\n",
       "      <td>2454</td>\n",
       "      <td>Tue Feb 25 07:54:26 -0500 2020</td>\n",
       "      <td>Leafy13222544</td>\n",
       "      <td>1.209270e+18</td>\n",
       "      <td>1</td>\n",
       "      <td>@ShaKeeL__007 @marksul44 @P3ng1z @BernieSander...</td>\n",
       "      <td>1</td>\n",
       "      <td>1</td>\n",
       "      <td>1</td>\n",
       "      <td>1</td>\n",
       "      <td>...</td>\n",
       "      <td>0.0</td>\n",
       "      <td>0.0</td>\n",
       "      <td>1.0</td>\n",
       "      <td>0.0</td>\n",
       "      <td>0.0</td>\n",
       "      <td>0.0</td>\n",
       "      <td>0.0</td>\n",
       "      <td>1.0</td>\n",
       "      <td>0.0</td>\n",
       "      <td>0.0</td>\n",
       "    </tr>\n",
       "    <tr>\n",
       "      <th>1</th>\n",
       "      <td>870</td>\n",
       "      <td>Tue Jun 16 11:13:24 -0400 2020</td>\n",
       "      <td>sharonka3</td>\n",
       "      <td>9.752547e+08</td>\n",
       "      <td>1</td>\n",
       "      <td>This is a perfect example of how Jews across N...</td>\n",
       "      <td>1</td>\n",
       "      <td>1</td>\n",
       "      <td>1</td>\n",
       "      <td>1</td>\n",
       "      <td>...</td>\n",
       "      <td>0.0</td>\n",
       "      <td>1.0</td>\n",
       "      <td>0.0</td>\n",
       "      <td>0.0</td>\n",
       "      <td>0.0</td>\n",
       "      <td>0.0</td>\n",
       "      <td>1.0</td>\n",
       "      <td>0.0</td>\n",
       "      <td>0.0</td>\n",
       "      <td>0.0</td>\n",
       "    </tr>\n",
       "    <tr>\n",
       "      <th>2</th>\n",
       "      <td>763</td>\n",
       "      <td>Thu Feb 27 09:53:39 -0500 2020</td>\n",
       "      <td>SpruceYelverton</td>\n",
       "      <td>1.114823e+09</td>\n",
       "      <td>1</td>\n",
       "      <td>Jews were the major cotton traders &amp;amp; had n...</td>\n",
       "      <td>1</td>\n",
       "      <td>1</td>\n",
       "      <td>1</td>\n",
       "      <td>1</td>\n",
       "      <td>...</td>\n",
       "      <td>0.0</td>\n",
       "      <td>1.0</td>\n",
       "      <td>0.0</td>\n",
       "      <td>0.0</td>\n",
       "      <td>0.0</td>\n",
       "      <td>0.0</td>\n",
       "      <td>1.0</td>\n",
       "      <td>0.0</td>\n",
       "      <td>0.0</td>\n",
       "      <td>0.0</td>\n",
       "    </tr>\n",
       "    <tr>\n",
       "      <th>3</th>\n",
       "      <td>3744</td>\n",
       "      <td>Fri Dec 06 08:25:54 -0500 2019</td>\n",
       "      <td>plive_calmer</td>\n",
       "      <td>8.404970e+17</td>\n",
       "      <td>0</td>\n",
       "      <td>🙊 I bet #randum The media's slanted view of ki...</td>\n",
       "      <td>1</td>\n",
       "      <td>1</td>\n",
       "      <td>1</td>\n",
       "      <td>1</td>\n",
       "      <td>...</td>\n",
       "      <td>0.0</td>\n",
       "      <td>1.0</td>\n",
       "      <td>0.0</td>\n",
       "      <td>0.0</td>\n",
       "      <td>0.0</td>\n",
       "      <td>0.0</td>\n",
       "      <td>1.0</td>\n",
       "      <td>0.0</td>\n",
       "      <td>0.0</td>\n",
       "      <td>0.0</td>\n",
       "    </tr>\n",
       "    <tr>\n",
       "      <th>4</th>\n",
       "      <td>1525</td>\n",
       "      <td>Tue Sep 03 08:53:53 -0400 2019</td>\n",
       "      <td>emzeekg</td>\n",
       "      <td>2.975341e+09</td>\n",
       "      <td>1</td>\n",
       "      <td>21 year old Palestinian woman murdered by her ...</td>\n",
       "      <td>1</td>\n",
       "      <td>1</td>\n",
       "      <td>1</td>\n",
       "      <td>1</td>\n",
       "      <td>...</td>\n",
       "      <td>0.0</td>\n",
       "      <td>0.0</td>\n",
       "      <td>1.0</td>\n",
       "      <td>0.0</td>\n",
       "      <td>0.0</td>\n",
       "      <td>0.0</td>\n",
       "      <td>0.0</td>\n",
       "      <td>1.0</td>\n",
       "      <td>0.0</td>\n",
       "      <td>0.0</td>\n",
       "    </tr>\n",
       "  </tbody>\n",
       "</table>\n",
       "<p>5 rows × 64 columns</p>\n",
       "</div>"
      ],
      "text/plain": [
       "   Unnamed: 0                     create_date             user        userID  \\\n",
       "0        2454  Tue Feb 25 07:54:26 -0500 2020    Leafy13222544  1.209270e+18   \n",
       "1         870  Tue Jun 16 11:13:24 -0400 2020        sharonka3  9.752547e+08   \n",
       "2         763  Thu Feb 27 09:53:39 -0500 2020  SpruceYelverton  1.114823e+09   \n",
       "3        3744  Fri Dec 06 08:25:54 -0500 2019     plive_calmer  8.404970e+17   \n",
       "4        1525  Tue Sep 03 08:53:53 -0400 2019          emzeekg  2.975341e+09   \n",
       "\n",
       "   RT_TF                                          full_text  Still.Exists.x  \\\n",
       "0      1  @ShaKeeL__007 @marksul44 @P3ng1z @BernieSander...               1   \n",
       "1      1  This is a perfect example of how Jews across N...               1   \n",
       "2      1  Jews were the major cotton traders &amp; had n...               1   \n",
       "3      0  🙊 I bet #randum The media's slanted view of ki...               1   \n",
       "4      1  21 year old Palestinian woman murdered by her ...               1   \n",
       "\n",
       "   Still.Exists.y  In.English.x  In.English.y  ...  124  125  126  127  128  \\\n",
       "0               1             1             1  ...  0.0  0.0  1.0  0.0  0.0   \n",
       "1               1             1             1  ...  0.0  1.0  0.0  0.0  0.0   \n",
       "2               1             1             1  ...  0.0  1.0  0.0  0.0  0.0   \n",
       "3               1             1             1  ...  0.0  1.0  0.0  0.0  0.0   \n",
       "4               1             1             1  ...  0.0  0.0  1.0  0.0  0.0   \n",
       "\n",
       "   1235  1236  1237 1238  1239  \n",
       "0   0.0   0.0   1.0  0.0   0.0  \n",
       "1   0.0   1.0   0.0  0.0   0.0  \n",
       "2   0.0   1.0   0.0  0.0   0.0  \n",
       "3   0.0   1.0   0.0  0.0   0.0  \n",
       "4   0.0   0.0   1.0  0.0   0.0  \n",
       "\n",
       "[5 rows x 64 columns]"
      ]
     },
     "execution_count": 39,
     "metadata": {},
     "output_type": "execute_result"
    }
   ],
   "source": [
    "df.head()"
   ]
  },
  {
   "cell_type": "markdown",
   "id": "815b0ce3",
   "metadata": {},
   "source": [
    "#### From the class graph, we saw that there was class imbalance, so we upsample to overcome this"
   ]
  },
  {
   "cell_type": "code",
   "execution_count": 40,
   "id": "e5298e18",
   "metadata": {},
   "outputs": [],
   "source": [
    "#pip install en_core_web_sm"
   ]
  },
  {
   "cell_type": "code",
   "execution_count": 41,
   "id": "b8662400",
   "metadata": {},
   "outputs": [],
   "source": [
    "import spacy\n",
    "from collections import Counter"
   ]
  },
  {
   "cell_type": "code",
   "execution_count": 42,
   "id": "3925c9cb",
   "metadata": {},
   "outputs": [],
   "source": [
    "import en_core_web_sm\n",
    "nlp = en_core_web_sm.load()"
   ]
  },
  {
   "cell_type": "markdown",
   "id": "69c8941a",
   "metadata": {},
   "source": [
    "#### Create new columnns to get the prominent categories"
   ]
  },
  {
   "cell_type": "code",
   "execution_count": 43,
   "id": "e92915ea",
   "metadata": {},
   "outputs": [],
   "source": [
    "df['Person'] = ''\n",
    "df['Org'] = ''\n",
    "df['Location'] = ''\n",
    "df['GPE'] = ''"
   ]
  },
  {
   "cell_type": "code",
   "execution_count": 44,
   "id": "853e1921",
   "metadata": {},
   "outputs": [],
   "source": [
    "import spacy\n",
    "from collections import Counter\n",
    "import en_core_web_sm\n",
    "nlp = en_core_web_sm.load()"
   ]
  },
  {
   "cell_type": "markdown",
   "id": "ccac0d3e",
   "metadata": {},
   "source": [
    "#### Update the prominent categories column of the text contains it "
   ]
  },
  {
   "cell_type": "code",
   "execution_count": 45,
   "id": "5c7a70f3",
   "metadata": {},
   "outputs": [],
   "source": [
    "i = 0\n",
    "for text in df.full_text:\n",
    "    text = nlp(text)\n",
    "    \n",
    "    entity = []\n",
    "    for word in text.ents:\n",
    "        entity.append(word.label_)\n",
    "    temp = 0\n",
    "    if 'PERSON' in entity:\n",
    "        temp = 1\n",
    "    df.at[i, 'Person'] = temp\n",
    "    temp = 0\n",
    "    if 'ORG' in entity:\n",
    "        temp = 1\n",
    "    df.at[i, 'Org'] = temp\n",
    "    temp = 0\n",
    "    if 'LOC' in entity:\n",
    "        temp = 1\n",
    "    df.at[i, 'Location'] = temp\n",
    "    temp = 0\n",
    "    if 'NORP' in entity:\n",
    "        temp = 1\n",
    "    df.at[i, 'GPE'] = temp\n",
    "    i+=1"
   ]
  },
  {
   "cell_type": "code",
   "execution_count": 46,
   "id": "2e9775ef",
   "metadata": {},
   "outputs": [
    {
     "name": "stdout",
     "output_type": "stream",
     "text": [
      "Random over-sampling:\n",
      "0    2473\n",
      "1    2473\n",
      "Name: Target, dtype: int64\n"
     ]
    }
   ],
   "source": [
    "count_class_0, count_class_1 = df.Target.value_counts()\n",
    "df_class_0 = df.loc[df.Target == 0].copy()\n",
    "df_class_1 = df.loc[df.Target == 1].copy()\n",
    "\n",
    "df_class_1_over = df_class_1.sample(count_class_0, replace=True)\n",
    "df = pd.concat([df_class_0, df_class_1_over], axis=0)\n",
    "\n",
    "print('Random over-sampling:')\n",
    "print(df.Target.value_counts())"
   ]
  },
  {
   "cell_type": "code",
   "execution_count": 47,
   "id": "878a637e",
   "metadata": {},
   "outputs": [],
   "source": [
    "data = df.copy()"
   ]
  },
  {
   "cell_type": "code",
   "execution_count": 48,
   "id": "a2bcdbb9",
   "metadata": {},
   "outputs": [],
   "source": [
    "X = data.drop(['Target','date', 'create_date', 'user','userID','full_text','Additional.Comments.x','Additional.Comments.y', 'sample_name'], axis = 1)\n",
    "y = data['Target']"
   ]
  },
  {
   "cell_type": "markdown",
   "id": "e60a44b8",
   "metadata": {},
   "source": [
    "#### Create a data frame to store the results"
   ]
  },
  {
   "cell_type": "code",
   "execution_count": 49,
   "id": "70201c8e",
   "metadata": {},
   "outputs": [],
   "source": [
    "results_log = pd.DataFrame(columns=[\"Model\", \"Train Accuracy\", \"Test Accuracy\"])"
   ]
  },
  {
   "cell_type": "markdown",
   "id": "8164a3b9",
   "metadata": {},
   "source": [
    "#### Use Standard Scalar to scale the values in order to change raw feature vectors into a representation that is more suitable for the downstream estimators"
   ]
  },
  {
   "cell_type": "code",
   "execution_count": 50,
   "id": "71e884af",
   "metadata": {},
   "outputs": [],
   "source": [
    "from sklearn.preprocessing import StandardScaler"
   ]
  },
  {
   "cell_type": "code",
   "execution_count": 51,
   "id": "b5e99eda",
   "metadata": {},
   "outputs": [
    {
     "data": {
      "text/plain": [
       "StandardScaler()"
      ]
     },
     "execution_count": 51,
     "metadata": {},
     "output_type": "execute_result"
    }
   ],
   "source": [
    "from sklearn.model_selection import train_test_split\n",
    "X_train, X_test, y_train, y_test = train_test_split(X, y, test_size=0.20, random_state=42, stratify = y)\n",
    "scalar = StandardScaler()\n",
    "scalar.fit_transform(X_train)\n",
    "scalar.fit(X_test)"
   ]
  },
  {
   "cell_type": "code",
   "execution_count": 52,
   "id": "12719805",
   "metadata": {},
   "outputs": [],
   "source": [
    "import numpy as np\n",
    "np.random.seed(42)"
   ]
  },
  {
   "cell_type": "markdown",
   "id": "065f4134",
   "metadata": {},
   "source": [
    "#### We will use Logistic regression as our baseline model"
   ]
  },
  {
   "cell_type": "code",
   "execution_count": 53,
   "id": "e738c219",
   "metadata": {},
   "outputs": [],
   "source": [
    "from sklearn.linear_model import LogisticRegression\n",
    "lg = LogisticRegression(penalty = 'l1', solver = 'saga')"
   ]
  },
  {
   "cell_type": "code",
   "execution_count": 54,
   "id": "a80b32cc",
   "metadata": {},
   "outputs": [
    {
     "name": "stderr",
     "output_type": "stream",
     "text": [
      "C:\\Users\\bhawn\\Anaconda3\\lib\\site-packages\\sklearn\\linear_model\\_sag.py:328: ConvergenceWarning: The max_iter was reached which means the coef_ did not converge\n",
      "  warnings.warn(\"The max_iter was reached which means \"\n"
     ]
    },
    {
     "data": {
      "text/plain": [
       "LogisticRegression(penalty='l1', solver='saga')"
      ]
     },
     "execution_count": 54,
     "metadata": {},
     "output_type": "execute_result"
    }
   ],
   "source": [
    "lg.fit(X_train, y_train)"
   ]
  },
  {
   "cell_type": "code",
   "execution_count": 55,
   "id": "7b81189f",
   "metadata": {},
   "outputs": [],
   "source": [
    "from sklearn.metrics import accuracy_score\n",
    "y_pred = lg.predict(X_train)\n",
    "train_acc = accuracy_score(y_train, y_pred)*100"
   ]
  },
  {
   "cell_type": "code",
   "execution_count": 56,
   "id": "7c352357",
   "metadata": {},
   "outputs": [],
   "source": [
    "y_pred_test = lg.predict(X_test)\n",
    "test_acc = accuracy_score(y_test, y_pred_test)*100\n",
    "results_log.loc[len(results_log)] = [\"Logistic Regression (Baseline)\", np.round(train_acc, 3),np.round(test_acc, 3)]"
   ]
  },
  {
   "cell_type": "markdown",
   "id": "ea6e4ce0",
   "metadata": {},
   "source": [
    "#### We will perform classification using Random Forest Classifier"
   ]
  },
  {
   "cell_type": "code",
   "execution_count": 57,
   "id": "5279c87c",
   "metadata": {},
   "outputs": [],
   "source": [
    "from sklearn.ensemble import RandomForestClassifier\n",
    "rfclf = RandomForestClassifier()\n"
   ]
  },
  {
   "cell_type": "code",
   "execution_count": 58,
   "id": "8b9cdba5",
   "metadata": {},
   "outputs": [
    {
     "data": {
      "text/plain": [
       "RandomForestClassifier()"
      ]
     },
     "execution_count": 58,
     "metadata": {},
     "output_type": "execute_result"
    }
   ],
   "source": [
    "rfclf.fit(X_train, y_train)"
   ]
  },
  {
   "cell_type": "code",
   "execution_count": 59,
   "id": "12b812be",
   "metadata": {},
   "outputs": [],
   "source": [
    "from sklearn.metrics import accuracy_score\n",
    "y_pred = rfclf.predict(X_train)\n",
    "train_acc = accuracy_score(y_train, y_pred)*100"
   ]
  },
  {
   "cell_type": "code",
   "execution_count": 60,
   "id": "2f5317d0",
   "metadata": {},
   "outputs": [],
   "source": [
    "y_pred_test = rfclf.predict(X_test)\n",
    "test_acc = accuracy_score(y_test, y_pred_test)*100\n",
    "results_log.loc[len(results_log)] = [\"Random Forest\", np.round(train_acc, 3),np.round(test_acc, 3)]"
   ]
  },
  {
   "cell_type": "markdown",
   "id": "27d64669",
   "metadata": {},
   "source": [
    "#### Bernoulli Classifier"
   ]
  },
  {
   "cell_type": "code",
   "execution_count": 61,
   "id": "2c08eef6",
   "metadata": {},
   "outputs": [],
   "source": [
    "from sklearn.naive_bayes import GaussianNB, BernoulliNB\n",
    "nb = BernoulliNB()"
   ]
  },
  {
   "cell_type": "code",
   "execution_count": 62,
   "id": "cf8d4ccd",
   "metadata": {},
   "outputs": [
    {
     "data": {
      "text/plain": [
       "BernoulliNB()"
      ]
     },
     "execution_count": 62,
     "metadata": {},
     "output_type": "execute_result"
    }
   ],
   "source": [
    "nb.fit(X_train, y_train)"
   ]
  },
  {
   "cell_type": "code",
   "execution_count": 63,
   "id": "735de9a8",
   "metadata": {},
   "outputs": [],
   "source": [
    "y_pred = nb.predict(X_train)\n",
    "train_acc = accuracy_score(y_train, y_pred)*100"
   ]
  },
  {
   "cell_type": "code",
   "execution_count": 64,
   "id": "df177e30",
   "metadata": {},
   "outputs": [],
   "source": [
    "y_pred_test = nb.predict(X_test)\n",
    "test_acc = accuracy_score(y_test, y_pred_test)*100\n",
    "results_log.loc[len(results_log)] = [\"Bernoulli NB\", np.round(train_acc, 3),np.round(test_acc, 3)]"
   ]
  },
  {
   "cell_type": "code",
   "execution_count": 65,
   "id": "c3d0f7f6",
   "metadata": {},
   "outputs": [
    {
     "data": {
      "text/html": [
       "<div>\n",
       "<style scoped>\n",
       "    .dataframe tbody tr th:only-of-type {\n",
       "        vertical-align: middle;\n",
       "    }\n",
       "\n",
       "    .dataframe tbody tr th {\n",
       "        vertical-align: top;\n",
       "    }\n",
       "\n",
       "    .dataframe thead th {\n",
       "        text-align: right;\n",
       "    }\n",
       "</style>\n",
       "<table border=\"1\" class=\"dataframe\">\n",
       "  <thead>\n",
       "    <tr style=\"text-align: right;\">\n",
       "      <th></th>\n",
       "      <th>Model</th>\n",
       "      <th>Train Accuracy</th>\n",
       "      <th>Test Accuracy</th>\n",
       "    </tr>\n",
       "  </thead>\n",
       "  <tbody>\n",
       "    <tr>\n",
       "      <th>0</th>\n",
       "      <td>Logistic Regression (Baseline)</td>\n",
       "      <td>60.111</td>\n",
       "      <td>55.253</td>\n",
       "    </tr>\n",
       "    <tr>\n",
       "      <th>1</th>\n",
       "      <td>Random Forest</td>\n",
       "      <td>100.000</td>\n",
       "      <td>99.899</td>\n",
       "    </tr>\n",
       "    <tr>\n",
       "      <th>2</th>\n",
       "      <td>Bernoulli NB</td>\n",
       "      <td>99.570</td>\n",
       "      <td>98.889</td>\n",
       "    </tr>\n",
       "  </tbody>\n",
       "</table>\n",
       "</div>"
      ],
      "text/plain": [
       "                            Model  Train Accuracy  Test Accuracy\n",
       "0  Logistic Regression (Baseline)          60.111         55.253\n",
       "1                   Random Forest         100.000         99.899\n",
       "2                    Bernoulli NB          99.570         98.889"
      ]
     },
     "execution_count": 65,
     "metadata": {},
     "output_type": "execute_result"
    }
   ],
   "source": [
    "results_log"
   ]
  },
  {
   "cell_type": "markdown",
   "id": "36c7a2a6",
   "metadata": {},
   "source": [
    "### Performing a gridsearch of all classifier and checking for mean and standard deviations score"
   ]
  },
  {
   "cell_type": "code",
   "execution_count": 66,
   "id": "532b2c62",
   "metadata": {},
   "outputs": [
    {
     "name": "stderr",
     "output_type": "stream",
     "text": [
      "C:\\Users\\bhawn\\Anaconda3\\lib\\site-packages\\sklearn\\linear_model\\_sag.py:328: ConvergenceWarning: The max_iter was reached which means the coef_ did not converge\n",
      "  warnings.warn(\"The max_iter was reached which means \"\n",
      "C:\\Users\\bhawn\\Anaconda3\\lib\\site-packages\\sklearn\\linear_model\\_sag.py:328: ConvergenceWarning: The max_iter was reached which means the coef_ did not converge\n",
      "  warnings.warn(\"The max_iter was reached which means \"\n",
      "C:\\Users\\bhawn\\Anaconda3\\lib\\site-packages\\sklearn\\linear_model\\_sag.py:328: ConvergenceWarning: The max_iter was reached which means the coef_ did not converge\n",
      "  warnings.warn(\"The max_iter was reached which means \"\n",
      "C:\\Users\\bhawn\\Anaconda3\\lib\\site-packages\\sklearn\\linear_model\\_sag.py:328: ConvergenceWarning: The max_iter was reached which means the coef_ did not converge\n",
      "  warnings.warn(\"The max_iter was reached which means \"\n",
      "C:\\Users\\bhawn\\Anaconda3\\lib\\site-packages\\sklearn\\linear_model\\_sag.py:328: ConvergenceWarning: The max_iter was reached which means the coef_ did not converge\n",
      "  warnings.warn(\"The max_iter was reached which means \"\n",
      "C:\\Users\\bhawn\\Anaconda3\\lib\\site-packages\\sklearn\\linear_model\\_sag.py:328: ConvergenceWarning: The max_iter was reached which means the coef_ did not converge\n",
      "  warnings.warn(\"The max_iter was reached which means \"\n",
      "C:\\Users\\bhawn\\Anaconda3\\lib\\site-packages\\sklearn\\linear_model\\_sag.py:328: ConvergenceWarning: The max_iter was reached which means the coef_ did not converge\n",
      "  warnings.warn(\"The max_iter was reached which means \"\n",
      "C:\\Users\\bhawn\\Anaconda3\\lib\\site-packages\\sklearn\\linear_model\\_sag.py:328: ConvergenceWarning: The max_iter was reached which means the coef_ did not converge\n",
      "  warnings.warn(\"The max_iter was reached which means \"\n",
      "C:\\Users\\bhawn\\Anaconda3\\lib\\site-packages\\sklearn\\linear_model\\_sag.py:328: ConvergenceWarning: The max_iter was reached which means the coef_ did not converge\n",
      "  warnings.warn(\"The max_iter was reached which means \"\n",
      "C:\\Users\\bhawn\\Anaconda3\\lib\\site-packages\\sklearn\\linear_model\\_sag.py:328: ConvergenceWarning: The max_iter was reached which means the coef_ did not converge\n",
      "  warnings.warn(\"The max_iter was reached which means \"\n"
     ]
    },
    {
     "name": "stdout",
     "output_type": "stream",
     "text": [
      "LR: 0.600369 (0.031956)\n",
      "LDA: 0.991659 (0.003207)\n",
      "KNN: 0.998989 (0.001676)\n",
      "CART: 0.999495 (0.001010)\n",
      "RF: 0.999494 (0.001011)\n",
      "GNB: 0.998989 (0.001239)\n",
      "BNB: 0.995197 (0.003824)\n",
      "SVM: 0.713093 (0.015270)\n"
     ]
    },
    {
     "data": {
      "image/png": "[encoded data removed]",
      "text/plain": [
       "<Figure size 432x288 with 1 Axes>"
      ]
     },
     "metadata": {
      "needs_background": "light"
     },
     "output_type": "display_data"
    }
   ],
   "source": [
    "from sklearn.naive_bayes import MultinomialNB\n",
    "import numpy as np\n",
    "import pandas as pd\n",
    "from pandas import read_csv\n",
    "from matplotlib import pyplot\n",
    "from sklearn.model_selection import KFold\n",
    "from sklearn.model_selection import cross_val_score\n",
    "from sklearn.linear_model import LogisticRegression\n",
    "from sklearn.tree import DecisionTreeClassifier\n",
    "from sklearn.neighbors import KNeighborsClassifier\n",
    "from sklearn.discriminant_analysis import LinearDiscriminantAnalysis\n",
    "from sklearn.naive_bayes import GaussianNB\n",
    "from sklearn.svm import SVC\n",
    "from sklearn.pipeline import Pipeline\n",
    "from sklearn.model_selection import GridSearchCV\n",
    "\n",
    "results = []\n",
    "names = []\n",
    "scoring = 'accuracy'\n",
    "\n",
    "# Create a pipeline\n",
    "clf_pipe = Pipeline([('clf', None)]) # Placeholder Estimator\n",
    "    \n",
    "# Candidate learning estimators\n",
    "estimators = [{'clf': [LogisticRegression(penalty = 'l1', solver = 'saga')]},\n",
    "                {'clf': [LinearDiscriminantAnalysis()]},\n",
    "                {'clf': [KNeighborsClassifier()]},\n",
    "                {'clf': [DecisionTreeClassifier()]},\n",
    "                  {'clf' : [RandomForestClassifier()]},\n",
    "                {'clf': [GaussianNB()]},\n",
    "                {'clf': [BernoulliNB()]},\n",
    "                {'clf': [SVC()]},\n",
    "               ]\n",
    "\n",
    "name = ['LR','LDA','KNN','CART','RF','GNB','BNB','SVM']\n",
    "\n",
    "# Create grid search \n",
    "\n",
    "\n",
    "#==================================================#\n",
    "#               Your code starts here              #\n",
    "#==================================================#\n",
    "# Create grid search using the pipeline and estimators as the parametes, \n",
    "#use cv = 10 and 'accuracy' for the scoring parameter\n",
    "clf_gridsearch = GridSearchCV(clf_pipe, param_grid = estimators, cv = 10, scoring=scoring)\n",
    "#TODO:complete the gridsearch code\n",
    "#clf_gridsearch = GridSearchCV...\n",
    "#==================================================#\n",
    "#               Your code ends here                #\n",
    "#               Please don't add code below here   #\n",
    "#==================================================#\n",
    "\n",
    "\n",
    "clf_gridsearch.fit(X_train, y_train)\n",
    "\n",
    "results_df = pd.DataFrame(clf_gridsearch.cv_results_)\n",
    "results_df = results_df.T\n",
    "#display(results_df)\n",
    "\n",
    "for i in range(0,8):\n",
    "    results.append(results_df[i][6:16].to_list())\n",
    "    msg = \"%s: %f (%f)\" % (name[i], np.mean(results[i]), np.std(results[i]))\n",
    "    print(msg)\n",
    "    \n",
    "# boxplot algorithm comparison\n",
    "fig = pyplot.figure()\n",
    "fig.suptitle('Classification Algorithm Comparison')\n",
    "ax = fig.add_subplot(111)\n",
    "pyplot.boxplot(results)\n",
    "ax.set_xticklabels(name)\n",
    "ax.set_yticks([0,1.5])\n",
    "pyplot.show()\n"
   ]
  },
  {
   "cell_type": "markdown",
   "id": "b4a91d6e",
   "metadata": {},
   "source": [
    "#### As RF has minimal standard deviation, we will perform Randomized Grid Search on it to find the best parameters"
   ]
  },
  {
   "cell_type": "code",
   "execution_count": null,
   "id": "ab6cd5c0",
   "metadata": {},
   "outputs": [],
   "source": [
    "from sklearn.model_selection import GridSearchCV\n",
    "from sklearn.model_selection import RandomizedSearchCV\n",
    "from scipy.stats import randint\n",
    "\n",
    "param_distribs = {\n",
    "        'n_estimators': randint(low=1, high=200),\n",
    "        'max_features': randint(low=1, high=8),\n",
    "    }\n",
    "\n",
    "\n",
    "forest_clf = RandomForestClassifier(random_state=42)\n",
    "# train across 5 folds, that's a total of (12+6)*5=90 rounds of training \n",
    "rnd_search = RandomizedSearchCV(forest_clf, param_distributions=param_distribs,\n",
    "                                n_iter=10, cv=5, scoring='accuracy', random_state=42)\n",
    "rnd_search.fit(X_train, y_train)"
   ]
  },
  {
   "cell_type": "code",
   "execution_count": null,
   "id": "b4eac27c",
   "metadata": {},
   "outputs": [],
   "source": [
    "rnd_search.best_params_"
   ]
  },
  {
   "cell_type": "code",
   "execution_count": null,
   "id": "81758014",
   "metadata": {},
   "outputs": [],
   "source": [
    "rnd_search.best_estimator_"
   ]
  },
  {
   "cell_type": "code",
   "execution_count": null,
   "id": "32d9d2ad",
   "metadata": {},
   "outputs": [],
   "source": [
    "from sklearn.ensemble import RandomForestClassifier\n",
    "best_classifier = rnd_search.best_estimator_"
   ]
  },
  {
   "cell_type": "code",
   "execution_count": null,
   "id": "40812909",
   "metadata": {},
   "outputs": [],
   "source": [
    "best_classifier.fit(X_train, y_train)"
   ]
  },
  {
   "cell_type": "code",
   "execution_count": null,
   "id": "353dcc1d",
   "metadata": {},
   "outputs": [],
   "source": [
    "y_pred = best_classifier.predict(X_train)\n",
    "train_acc = accuracy_score(y_train, y_pred)*100"
   ]
  },
  {
   "cell_type": "code",
   "execution_count": null,
   "id": "f42ef0e0",
   "metadata": {},
   "outputs": [],
   "source": [
    "y_pred_test = best_classifier.predict(X_test)\n",
    "test_acc = accuracy_score(y_test, y_pred_test)*100\n",
    "results_log.loc[len(results_log)] = [\"Random Forest with best parameters\", np.round(train_acc, 3),np.round(test_acc, 3)]"
   ]
  },
  {
   "cell_type": "code",
   "execution_count": null,
   "id": "587c5ec7",
   "metadata": {},
   "outputs": [],
   "source": [
    "results_log"
   ]
  },
  {
   "cell_type": "markdown",
   "id": "751b7c20",
   "metadata": {},
   "source": [
    "# Predicting the test dataset using the best model"
   ]
  },
  {
   "cell_type": "code",
   "execution_count": null,
   "id": "87535635",
   "metadata": {
    "scrolled": true
   },
   "outputs": [],
   "source": [
    "import pandas as pd\n",
    "new_test_data = pd.read_csv('test_dataset.csv')\n",
    "data_index = new_test_data.index\n",
    "new_test_data.head()"
   ]
  },
  {
   "cell_type": "code",
   "execution_count": null,
   "id": "e79322e4",
   "metadata": {},
   "outputs": [],
   "source": [
    "new_test_data.drop(['Is.About.the.Holocaust.x', 'Is.About.the.Holocaust.y', 'Is.About.The.Holocaust.x', 'Is.About.The.Holocaust.y'],axis = 1, inplace=True)\n",
    "new_test_data.drop(['User.x', 'User.y','Sample.ID.x', 'Sample.ID.y','ID', 'Unnamed: 0.1' ],axis = 1, inplace=True)\n",
    "new_test_data['RT_TF'] = new_test_data['RT_TF'].astype(int)\n",
    "new_test_data['Still.Exists.x'] = new_test_data['Still.Exists.x'].astype(int)\n",
    "new_test_data['Still.Exists.y'] = new_test_data['Still.Exists.y'].astype(int)\n",
    "new_test_data['In.English.x'] = new_test_data['In.English.x'].astype(int)\n",
    "new_test_data['In.English.y'] = new_test_data['In.English.y'].astype(int)\n",
    "new_test_data['Sarcasm.x'] = new_test_data['Sarcasm.x'].astype(int)\n",
    "new_test_data['Sarcasm.y'] = new_test_data['Sarcasm.y'].astype(int)\n",
    "new_test_data['Disagree.With.x'] = new_test_data['Disagree.With.x'].astype(int)\n",
    "new_test_data['Disagree.With.y'] = new_test_data['Disagree.With.y'].astype(int)\n",
    "new_test_data.set_index(['Unnamed: 0'])"
   ]
  },
  {
   "cell_type": "markdown",
   "id": "3dac33db",
   "metadata": {},
   "source": [
    "### Performing all the preprocessing steps we did in the training dataset"
   ]
  },
  {
   "cell_type": "code",
   "execution_count": null,
   "id": "13538c45",
   "metadata": {},
   "outputs": [],
   "source": [
    "month_labels = {'Jan':1, 'Feb':2,'Mar':3,'Apr':4,'May':5,'Jun':6,'Jul':7,\n",
    "               'Aug':8,'Sep':9,'Oct':10,'Nov':11,'Dec':12}\n",
    "new_test_data['year'] = new_test_data['create_date'].str[-4:]\n",
    "new_test_data['month'] = new_test_data['create_date'].str[4:7]\n",
    "new_test_data['month'] = new_test_data['month'].apply(lambda x: month_labels[x])\n",
    "new_test_data['date'] = pd.to_datetime(new_test_data[['year', 'month']].assign(DAY=1))\n",
    "new_test_data['date']= pd.to_datetime(new_test_data['date'])\n",
    "new_test_data.head()\n"
   ]
  },
  {
   "cell_type": "code",
   "execution_count": null,
   "id": "3321fd18",
   "metadata": {},
   "outputs": [],
   "source": [
    "from sklearn.preprocessing import OneHotEncoder\n",
    "cat_features = new_test_data[['key']]\n",
    "                  #'IHRA.Section.x','IHRA.Section.y', 'Sentiment.Rating.x', 'Sentiment.Rating.y']]\n",
    "df_ohe = ohe1.transform(cat_features)\n",
    "new_test_data[ohe1.categories_[0]] =  df_ohe.toarray()"
   ]
  },
  {
   "cell_type": "code",
   "execution_count": null,
   "id": "c0478c3a",
   "metadata": {},
   "outputs": [],
   "source": [
    "cat_features = new_test_data[['IHRA.Section.x']]\n",
    "                  #'IHRA.Section.x','IHRA.Section.y', 'Sentiment.Rating.x', 'Sentiment.Rating.y']]\n",
    "\n",
    "df_ohe = ohe2.transform(cat_features)\n",
    "new_test_data[ohe2.categories_[0]+1] =  df_ohe.toarray()"
   ]
  },
  {
   "cell_type": "code",
   "execution_count": null,
   "id": "fec5bda7",
   "metadata": {},
   "outputs": [],
   "source": [
    "cat_features = new_test_data[['IHRA.Section.y']]\n",
    "                  #'IHRA.Section.x','IHRA.Section.y', 'Sentiment.Rating.x', 'Sentiment.Rating.y']]\n",
    "\n",
    "df_ohe = ohe3.transform(cat_features)\n",
    "new_test_data[ohe3.categories_[0]+12] =  df_ohe.toarray()"
   ]
  },
  {
   "cell_type": "code",
   "execution_count": null,
   "id": "a5217902",
   "metadata": {},
   "outputs": [],
   "source": [
    "cat_features = new_test_data[['Sentiment.Rating.x']]\n",
    "                  #'IHRA.Section.x','IHRA.Section.y', 'Sentiment.Rating.x', 'Sentiment.Rating.y']]\n",
    "\n",
    "df_ohe = ohe4.transform(cat_features)\n",
    "new_test_data[ohe4.categories_[0]+123] =  df_ohe.toarray()"
   ]
  },
  {
   "cell_type": "code",
   "execution_count": null,
   "id": "276b5c25",
   "metadata": {},
   "outputs": [],
   "source": [
    "cat_features = new_test_data[['Sentiment.Rating.y']]\n",
    "                  #'IHRA.Section.x','IHRA.Section.y', 'Sentiment.Rating.x', 'Sentiment.Rating.y']]\n",
    "\n",
    "df_ohe = ohe5.transform(cat_features)\n",
    "new_test_data[ohe5.categories_[0]+1234] =  df_ohe.toarray()"
   ]
  },
  {
   "cell_type": "code",
   "execution_count": null,
   "id": "7d945043",
   "metadata": {},
   "outputs": [],
   "source": [
    "new_test_data['Person'] = ''\n",
    "new_test_data['Org'] = ''\n",
    "new_test_data['Location'] = ''\n",
    "new_test_data['GPE'] = ''"
   ]
  },
  {
   "cell_type": "code",
   "execution_count": null,
   "id": "aa317d62",
   "metadata": {},
   "outputs": [],
   "source": [
    "new_test_data.drop(['key', 'IHRA.Section.x','IHRA.Section.y', 'Sentiment.Rating.x', 'Sentiment.Rating.y'], axis = 1, inplace = True)"
   ]
  },
  {
   "cell_type": "code",
   "execution_count": null,
   "id": "729a8551",
   "metadata": {},
   "outputs": [],
   "source": [
    "i = 0\n",
    "for text in new_test_data.full_text:\n",
    "    text = nlp(text)\n",
    "    \n",
    "    entity = []\n",
    "    for word in text.ents:\n",
    "        entity.append(word.label_)\n",
    "    temp = 0\n",
    "    if 'PERSON' in entity:\n",
    "        temp = 1\n",
    "    new_test_data.at[i, 'Person'] = temp\n",
    "    temp = 0\n",
    "    if 'ORG' in entity:\n",
    "        temp = 1\n",
    "    new_test_data.at[i, 'Org'] = temp\n",
    "    temp = 0\n",
    "    if 'LOC' in entity:\n",
    "        temp = 1\n",
    "    new_test_data.at[i, 'Location'] = temp\n",
    "    temp = 0\n",
    "    if 'NORP' in entity:\n",
    "        temp = 1\n",
    "    new_test_data.at[i, 'GPE'] = temp\n",
    "    i+=1"
   ]
  },
  {
   "cell_type": "code",
   "execution_count": null,
   "id": "7fb3bff2",
   "metadata": {},
   "outputs": [],
   "source": [
    "new_test_data.drop(['user','create_date','date','userID','full_text','Additional.Comments.x','Additional.Comments.y', 'sample_name'], axis = 1, inplace = True)"
   ]
  },
  {
   "cell_type": "markdown",
   "id": "49ecc313",
   "metadata": {},
   "source": [
    "### Making the prediction and storing the results in the output file"
   ]
  },
  {
   "cell_type": "code",
   "execution_count": null,
   "id": "9e0b7f2b",
   "metadata": {},
   "outputs": [],
   "source": [
    "scalar.fit(new_test_data)\n",
    "predictions = best_classifier.predict(new_test_data)\n",
    "res = pd.DataFrame(predictions) #preditcions are nothing but the final predictions of your model on input features of your new unseen test data\n",
    "res.index = data_index # its important for comparison. Here \"test_new\" is your new test dataset\n",
    "res.columns = [\"Target\"]\n",
    "res.to_csv(\"prediction_results.csv\", index = False) "
   ]
  }
 ],
 "metadata": {
  "kernelspec": {
   "display_name": "Python 3",
   "language": "python",
   "name": "python3"
  },
  "language_info": {
   "codemirror_mode": {
    "name": "ipython",
    "version": 3
   },
   "file_extension": ".py",
   "mimetype": "text/x-python",
   "name": "python",
   "nbconvert_exporter": "python",
   "pygments_lexer": "ipython3",
   "version": "3.8.8"
  }
 },
 "nbformat": 4,
 "nbformat_minor": 5
}
